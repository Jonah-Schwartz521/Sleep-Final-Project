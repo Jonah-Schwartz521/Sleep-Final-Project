{
 "cells": [
  {
   "cell_type": "markdown",
   "id": "e24bdc15",
   "metadata": {},
   "source": [
    "## Localization vs Non-localization Rates by Imaging Modality"
   ]
  },
  {
   "cell_type": "code",
   "execution_count": 2,
   "id": "6c11437f",
   "metadata": {},
   "outputs": [],
   "source": [
    "import pandas as pd \n",
    "import matplotlib.pyplot as plt\n",
    "preop_imaging_df = pd.read_excel('Data/Clean_imaging_data.xlsx')"
   ]
  },
  {
   "cell_type": "code",
   "execution_count": 3,
   "id": "5cea2ec9",
   "metadata": {},
   "outputs": [],
   "source": [
    "# initalize the modalities \n",
    "modalities = ['SPECT/CT', '4D CT Scan', 'Ultrasound', 'Sestamibi', 'MRI']\n",
    "\n",
    "# create dictionaries to store the counts \n",
    "non_localizing_counts = {}\n",
    "localizing_counts = {}\n",
    "non_localizing_rates = {}\n",
    "localizing_rates = {}"
   ]
  },
  {
   "cell_type": "code",
   "execution_count": 4,
   "id": "edce3b7e",
   "metadata": {},
   "outputs": [
    {
     "name": "stdout",
     "output_type": "stream",
     "text": [
      "{'SPECT/CT': 77.39, '4D CT Scan': 75.88, 'Ultrasound': 53.79, 'Sestamibi': 64.94, 'MRI': 53.33}\n",
      "{'SPECT/CT': 22.61, '4D CT Scan': 24.12, 'Ultrasound': 46.21, 'Sestamibi': 35.06, 'MRI': 46.67}\n"
     ]
    }
   ],
   "source": [
    "# iterate through each modality \n",
    "for modality in modalities:\n",
    "    \n",
    "    # calculate non-localizing\n",
    "    non_localizing_count = preop_imaging_df[preop_imaging_df[modality] == 'Non-localizing'].shape[0]\n",
    "    # store this in the respective dictionary\n",
    "    non_localizing_counts[modality] = non_localizing_count\n",
    "    \n",
    "    # count the localized scans (not non-localizing or no scan)\n",
    "    localizing_count = preop_imaging_df[\n",
    "            preop_imaging_df[modality].notnull() & \n",
    "            (preop_imaging_df[modality] != 'Non-localizing') & \n",
    "            (preop_imaging_df[modality] != 'No Scan')\n",
    "        ].shape[0]\n",
    "    # add to the respective dictionary \n",
    "    localizing_counts[modality] = localizing_count\n",
    "\n",
    "    # calculate total scans \n",
    "    total_scans = non_localizing_count + localizing_count\n",
    "    \n",
    "    # Calculate non-localization rate\n",
    "    non_localizing_rates[modality] = round((non_localizing_count / total_scans * 100) if total_scans > 0 else 0, 2)\n",
    "    localizing_rates[modality] = round((localizing_count / total_scans * 100) if total_scans > 0 else 0, 2)\n",
    "\n",
    "print(localizing_rates)\n",
    "print(non_localizing_rates)"
   ]
  },
  {
   "cell_type": "code",
   "execution_count": 5,
   "id": "36801405",
   "metadata": {},
   "outputs": [
    {
     "data": {
      "text/html": [
       "<div>\n",
       "<style scoped>\n",
       "    .dataframe tbody tr th:only-of-type {\n",
       "        vertical-align: middle;\n",
       "    }\n",
       "\n",
       "    .dataframe tbody tr th {\n",
       "        vertical-align: top;\n",
       "    }\n",
       "\n",
       "    .dataframe thead th {\n",
       "        text-align: right;\n",
       "    }\n",
       "</style>\n",
       "<table border=\"1\" class=\"dataframe\">\n",
       "  <thead>\n",
       "    <tr style=\"text-align: right;\">\n",
       "      <th></th>\n",
       "      <th>Non-localizing</th>\n",
       "      <th>Localizing</th>\n",
       "      <th>Non-localization Rate (%)</th>\n",
       "      <th>Localization Rate (%)</th>\n",
       "    </tr>\n",
       "  </thead>\n",
       "  <tbody>\n",
       "    <tr>\n",
       "      <th>SPECT/CT</th>\n",
       "      <td>52</td>\n",
       "      <td>178</td>\n",
       "      <td>22.61</td>\n",
       "      <td>77.39</td>\n",
       "    </tr>\n",
       "    <tr>\n",
       "      <th>4D CT Scan</th>\n",
       "      <td>55</td>\n",
       "      <td>173</td>\n",
       "      <td>24.12</td>\n",
       "      <td>75.88</td>\n",
       "    </tr>\n",
       "    <tr>\n",
       "      <th>Ultrasound</th>\n",
       "      <td>67</td>\n",
       "      <td>78</td>\n",
       "      <td>46.21</td>\n",
       "      <td>53.79</td>\n",
       "    </tr>\n",
       "    <tr>\n",
       "      <th>Sestamibi</th>\n",
       "      <td>61</td>\n",
       "      <td>113</td>\n",
       "      <td>35.06</td>\n",
       "      <td>64.94</td>\n",
       "    </tr>\n",
       "    <tr>\n",
       "      <th>MRI</th>\n",
       "      <td>7</td>\n",
       "      <td>8</td>\n",
       "      <td>46.67</td>\n",
       "      <td>53.33</td>\n",
       "    </tr>\n",
       "  </tbody>\n",
       "</table>\n",
       "</div>"
      ],
      "text/plain": [
       "            Non-localizing  Localizing  Non-localization Rate (%)  \\\n",
       "SPECT/CT                52         178                      22.61   \n",
       "4D CT Scan              55         173                      24.12   \n",
       "Ultrasound              67          78                      46.21   \n",
       "Sestamibi               61         113                      35.06   \n",
       "MRI                      7           8                      46.67   \n",
       "\n",
       "            Localization Rate (%)  \n",
       "SPECT/CT                    77.39  \n",
       "4D CT Scan                  75.88  \n",
       "Ultrasound                  53.79  \n",
       "Sestamibi                   64.94  \n",
       "MRI                         53.33  "
      ]
     },
     "execution_count": 5,
     "metadata": {},
     "output_type": "execute_result"
    }
   ],
   "source": [
    "# convert to a dataframe for better output \n",
    "# Convert to DataFrame\n",
    "summary_df = pd.DataFrame({\n",
    "    'Non-localizing': non_localizing_counts,\n",
    "    'Localizing': localizing_counts,\n",
    "    'Non-localization Rate (%)': non_localizing_rates,\n",
    "    'Localization Rate (%)': localizing_rates\n",
    "})\n",
    "\n",
    "summary_df"
   ]
  },
  {
   "cell_type": "code",
   "execution_count": 7,
   "id": "a979bf72",
   "metadata": {},
   "outputs": [
    {
     "data": {
      "image/png": "[encoded data removed]",
      "text/plain": [
       "<Figure size 1000x600 with 1 Axes>"
      ]
     },
     "metadata": {},
     "output_type": "display_data"
    }
   ],
   "source": [
    "# Convert to series \n",
    "localizing_series = pd.Series(localizing_counts)\n",
    "non_localizing_series = pd.Series(non_localizing_counts)\n",
    "loc_rate_series = pd.Series(localizing_rates)  \n",
    "\n",
    "# Sort modalities\n",
    "sorted_modalities = loc_rate_series.sort_values(ascending=False).index\n",
    "localizing_series = localizing_series[sorted_modalities]\n",
    "non_localizing_series = non_localizing_series[sorted_modalities]\n",
    "\n",
    "# initialize figure size\n",
    "plt.figure(figsize=(10,6))\n",
    "\n",
    "# Plot directly from the Series\n",
    "plt.bar(localizing_series.index, localizing_series, label='Localizing', color='green')\n",
    "plt.bar(non_localizing_series.index, non_localizing_series, \n",
    "        bottom=localizing_series, label='Non-localizing', color='red')\n",
    "\n",
    "# titles \n",
    "plt.ylabel('Number of Patients')\n",
    "plt.title('Localizing vs Non-localizing Scans by Modality')\n",
    "# rotate x-axis labels \n",
    "plt.xticks(rotation=45)\n",
    "plt.legend()\n",
    "# space it out better \n",
    "plt.tight_layout()\n",
    "plt.show()"
   ]
  }
 ],
 "metadata": {
  "kernelspec": {
   "display_name": "base",
   "language": "python",
   "name": "python3"
  },
  "language_info": {
   "codemirror_mode": {
    "name": "ipython",
    "version": 3
   },
   "file_extension": ".py",
   "mimetype": "text/x-python",
   "name": "python",
   "nbconvert_exporter": "python",
   "pygments_lexer": "ipython3",
   "version": "3.12.4"
  }
 },
 "nbformat": 4,
 "nbformat_minor": 5
}
