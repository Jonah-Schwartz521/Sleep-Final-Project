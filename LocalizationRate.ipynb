{
 "cells": [
  {
   "cell_type": "markdown",
   "id": "e24bdc15",
   "metadata": {},
   "source": [
    "# Localization Rate Analysis for Imaging Modalities\n",
    "\n",
    "## What is Localization Rate?\n",
    "\n",
    "Localization rate measures how often each scan can pinpoint exactly where the parathyroid problem is located. It answers the question, \"When we do this type of scan, how often does it give us a specific location versus saying 'we can't find anything specific'?\"\n",
    "\n",
    "An easy way to think of it is if you're looking for your keys, a scan with good localization will tell you \"they're on the kitchen counter\" A scan with poor localization will just say \"they're somewhere in the house\"\n",
    "\n",
    "## How We Measure Localization Rate\n",
    "\n",
    "We looked at all the scans that were performed and put them into two categories\n",
    "\n",
    "**Localizing**: The scan found something and gave us a specific location (like \"left superior\" or \"right inferior\")\n",
    "**Non-localizing**: The scan either found nothing specific or couldn't pinpoint where the problem was\n",
    "\n",
    "Then we calculated what percentage of scans were able to localize versus those that couldn't.\n",
    "\n",
    "## What We Include and Exclude\n",
    "\n",
    "We included all scans that were actually performed and gave us a result\n",
    "- **Localizing scans**: Any scan that pointed to a specific location\n",
    "- **Non-localizing scans**: Scans that said they couldn't find anything specific\n",
    "\n",
    "We excluded cases where no scan was done at all because we can't measure what wasn't tested.\n",
    "\n",
    "## Why Localization Rate Matters\n",
    "\n",
    "High localization rates (close to 100%) mean the scan is really good at finding and pinpointing problems. This helps surgeons know exactly where to look during the operation, making surgery more precise and successful. If a scan has a low localization rate, it might still be useful but won't give surgeons the specific thing they need."
   ]
  },
  {
   "cell_type": "code",
   "execution_count": 127,
   "id": "6c11437f",
   "metadata": {},
   "outputs": [],
   "source": [
    "import pandas as pd \n",
    "import matplotlib.pyplot as plt\n",
    "preop_imaging_df = pd.read_excel('Data/final_clean_imaging_data.xlsx')"
   ]
  },
  {
   "cell_type": "code",
   "execution_count": 128,
   "id": "5cea2ec9",
   "metadata": {},
   "outputs": [],
   "source": [
    "# Initalizing the modalities \n",
    "modalities = ['SPECT/CT', '4D CT Scan', 'Ultrasound', 'Sestamibi']\n",
    "\n",
    "# Creating dictionaries to store the counts \n",
    "non_localizing_counts = {}\n",
    "localizing_counts = {}\n",
    "non_localizing_rates = {}\n",
    "localizing_rates = {}"
   ]
  },
  {
   "cell_type": "code",
   "execution_count": 129,
   "id": "edce3b7e",
   "metadata": {},
   "outputs": [
    {
     "name": "stdout",
     "output_type": "stream",
     "text": [
      "{'SPECT/CT': 77.39, '4D CT Scan': 75.88, 'Ultrasound': 53.79, 'Sestamibi': 64.94}\n",
      "{'SPECT/CT': 22.61, '4D CT Scan': 24.12, 'Ultrasound': 46.21, 'Sestamibi': 35.06}\n"
     ]
    }
   ],
   "source": [
    "# Iterating through each modality \n",
    "for modality in modalities:\n",
    "    \n",
    "    # Calculates non-localizing\n",
    "    non_localizing_count = preop_imaging_df[preop_imaging_df[modality] == 'Non-localizing'].shape[0]\n",
    "    # Stores this in the respective dictionary\n",
    "    non_localizing_counts[modality] = non_localizing_count\n",
    "    \n",
    "    # Counts the localized scans (not non-localizing or no scan)\n",
    "    localizing_count = preop_imaging_df[\n",
    "            preop_imaging_df[modality].notnull() & \n",
    "            (preop_imaging_df[modality] != 'Non-localizing') & \n",
    "            (preop_imaging_df[modality] != 'No Scan')\n",
    "        ].shape[0]\n",
    "    # Adds to the respective dictionary \n",
    "    localizing_counts[modality] = localizing_count\n",
    "\n",
    "    # Calculates total scans \n",
    "    total_scans = non_localizing_count + localizing_count\n",
    "    \n",
    "    # Calculates non-localization rate\n",
    "    non_localizing_rates[modality] = round((non_localizing_count / total_scans * 100) if total_scans > 0 else 0, 2)\n",
    "    localizing_rates[modality] = round((localizing_count / total_scans * 100) if total_scans > 0 else 0, 2)\n",
    "\n",
    "print(localizing_rates)\n",
    "print(non_localizing_rates)"
   ]
  },
  {
   "cell_type": "code",
   "execution_count": 130,
   "id": "36801405",
   "metadata": {},
   "outputs": [
    {
     "data": {
      "text/html": [
       "<div>\n",
       "<style scoped>\n",
       "    .dataframe tbody tr th:only-of-type {\n",
       "        vertical-align: middle;\n",
       "    }\n",
       "\n",
       "    .dataframe tbody tr th {\n",
       "        vertical-align: top;\n",
       "    }\n",
       "\n",
       "    .dataframe thead th {\n",
       "        text-align: right;\n",
       "    }\n",
       "</style>\n",
       "<table border=\"1\" class=\"dataframe\">\n",
       "  <thead>\n",
       "    <tr style=\"text-align: right;\">\n",
       "      <th></th>\n",
       "      <th>Non-localizing</th>\n",
       "      <th>Localizing</th>\n",
       "      <th>Non-localization Rate (%)</th>\n",
       "      <th>Localization Rate (%)</th>\n",
       "    </tr>\n",
       "  </thead>\n",
       "  <tbody>\n",
       "    <tr>\n",
       "      <th>SPECT/CT</th>\n",
       "      <td>52</td>\n",
       "      <td>178</td>\n",
       "      <td>22.61</td>\n",
       "      <td>77.39</td>\n",
       "    </tr>\n",
       "    <tr>\n",
       "      <th>4D CT Scan</th>\n",
       "      <td>55</td>\n",
       "      <td>173</td>\n",
       "      <td>24.12</td>\n",
       "      <td>75.88</td>\n",
       "    </tr>\n",
       "    <tr>\n",
       "      <th>Ultrasound</th>\n",
       "      <td>67</td>\n",
       "      <td>78</td>\n",
       "      <td>46.21</td>\n",
       "      <td>53.79</td>\n",
       "    </tr>\n",
       "    <tr>\n",
       "      <th>Sestamibi</th>\n",
       "      <td>61</td>\n",
       "      <td>113</td>\n",
       "      <td>35.06</td>\n",
       "      <td>64.94</td>\n",
       "    </tr>\n",
       "  </tbody>\n",
       "</table>\n",
       "</div>"
      ],
      "text/plain": [
       "            Non-localizing  Localizing  Non-localization Rate (%)  \\\n",
       "SPECT/CT                52         178                      22.61   \n",
       "4D CT Scan              55         173                      24.12   \n",
       "Ultrasound              67          78                      46.21   \n",
       "Sestamibi               61         113                      35.06   \n",
       "\n",
       "            Localization Rate (%)  \n",
       "SPECT/CT                    77.39  \n",
       "4D CT Scan                  75.88  \n",
       "Ultrasound                  53.79  \n",
       "Sestamibi                   64.94  "
      ]
     },
     "execution_count": 130,
     "metadata": {},
     "output_type": "execute_result"
    }
   ],
   "source": [
    "# Converting to DataFrame so the output is easier to read\n",
    "summary_df = pd.DataFrame({\n",
    "    'Non-localizing': non_localizing_counts,\n",
    "    'Localizing': localizing_counts,\n",
    "    'Non-localization Rate (%)': non_localizing_rates,\n",
    "    'Localization Rate (%)': localizing_rates\n",
    "})\n",
    "\n",
    "summary_df"
   ]
  },
  {
   "cell_type": "code",
   "execution_count": 131,
   "id": "a979bf72",
   "metadata": {},
   "outputs": [
    {
     "data": {
      "image/png": "[encoded data removed]",
      "text/plain": [
       "<Figure size 1000x600 with 1 Axes>"
      ]
     },
     "metadata": {},
     "output_type": "display_data"
    }
   ],
   "source": [
    "# Sort modalities by localization rate (best to worst)\n",
    "sorted_modalities = summary_df.sort_values('Localization Rate (%)', ascending=False).index.tolist()\n",
    "\n",
    "# Make the chart\n",
    "plt.figure(figsize=(10,6))\n",
    "\n",
    "# Get the data in the right order\n",
    "localizing_data = [localizing_counts[mod] for mod in sorted_modalities]\n",
    "non_localizing_data = [non_localizing_counts[mod] for mod in sorted_modalities]\n",
    "\n",
    "# Create stacked bars\n",
    "plt.bar(sorted_modalities, localizing_data, label='Localizing', color='green')\n",
    "plt.bar(sorted_modalities, non_localizing_data, bottom=localizing_data, label='Non-localizing', color='red')\n",
    "\n",
    "# Add percentage labels on bars\n",
    "for i in range(len(sorted_modalities)):\n",
    "    modality = sorted_modalities[i]\n",
    "    # Green part label\n",
    "    plt.text(i, localizing_data[i]/2, f'{localizing_rates[modality]:.1f}%', ha='center', va='center')\n",
    "    # Red part label\n",
    "    plt.text(i, localizing_data[i] + non_localizing_data[i]/2, f'{non_localizing_rates[modality]:.1f}%', ha='center', va='center')\n",
    "\n",
    "plt.title('Localizing vs Non-localizing Scans by Modality')\n",
    "plt.ylabel('Number of Patients')\n",
    "plt.xticks(rotation=45)\n",
    "plt.legend()\n",
    "plt.tight_layout()\n",
    "plt.show()"
   ]
  },
  {
   "cell_type": "markdown",
   "id": "0d71266d",
   "metadata": {},
   "source": [
    "## Success Rate Evaluation\n",
    "\n",
    "Patients were labeled \"Success\" if they were cured and had at least one concordant imaging modality (Exact or Side match).\n"
   ]
  },
  {
   "cell_type": "code",
   "execution_count": 132,
   "id": "94fed7c3",
   "metadata": {},
   "outputs": [
    {
     "data": {
      "text/html": [
       "<div>\n",
       "<style scoped>\n",
       "    .dataframe tbody tr th:only-of-type {\n",
       "        vertical-align: middle;\n",
       "    }\n",
       "\n",
       "    .dataframe tbody tr th {\n",
       "        vertical-align: top;\n",
       "    }\n",
       "\n",
       "    .dataframe thead th {\n",
       "        text-align: right;\n",
       "    }\n",
       "</style>\n",
       "<table border=\"1\" class=\"dataframe\">\n",
       "  <thead>\n",
       "    <tr style=\"text-align: right;\">\n",
       "      <th></th>\n",
       "      <th>Total Scanned</th>\n",
       "      <th>Concordant + Cured</th>\n",
       "      <th>Success Rate (%)</th>\n",
       "    </tr>\n",
       "  </thead>\n",
       "  <tbody>\n",
       "    <tr>\n",
       "      <th>SPECT/CT</th>\n",
       "      <td>230</td>\n",
       "      <td>153</td>\n",
       "      <td>66.52</td>\n",
       "    </tr>\n",
       "    <tr>\n",
       "      <th>4D CT Scan</th>\n",
       "      <td>228</td>\n",
       "      <td>133</td>\n",
       "      <td>58.33</td>\n",
       "    </tr>\n",
       "    <tr>\n",
       "      <th>Ultrasound</th>\n",
       "      <td>145</td>\n",
       "      <td>67</td>\n",
       "      <td>46.21</td>\n",
       "    </tr>\n",
       "    <tr>\n",
       "      <th>Sestamibi</th>\n",
       "      <td>174</td>\n",
       "      <td>107</td>\n",
       "      <td>61.49</td>\n",
       "    </tr>\n",
       "  </tbody>\n",
       "</table>\n",
       "</div>"
      ],
      "text/plain": [
       "            Total Scanned  Concordant + Cured  Success Rate (%)\n",
       "SPECT/CT              230                 153             66.52\n",
       "4D CT Scan            228                 133             58.33\n",
       "Ultrasound            145                  67             46.21\n",
       "Sestamibi             174                 107             61.49"
      ]
     },
     "metadata": {},
     "output_type": "display_data"
    }
   ],
   "source": [
    "success_rates = {}\n",
    "success_counts = {}\n",
    "total_scanned_counts = {}\n",
    "\n",
    "for modality in modalities:\n",
    "    concordance_col = modality + ' Calculated Concordance'\n",
    "\n",
    "    # Includes only rows where the scan was done (exclude Unknown / No Scan)\n",
    "    scanned = preop_imaging_df[\n",
    "        preop_imaging_df[concordance_col].notna() &\n",
    "        (~preop_imaging_df[concordance_col].isin(['Unknown', 'No Scan']))\n",
    "    ]\n",
    "\n",
    "    # Total valid scans (localized or not)\n",
    "    total_scanned = scanned.shape[0]\n",
    "    total_scanned_counts[modality] = total_scanned\n",
    "\n",
    "    # Defines what success is, concordant (exact or side) AND cured\n",
    "    success = scanned[\n",
    "        scanned[concordance_col].isin(['Yes (Exact)', 'Yes (Side)']) &\n",
    "        (scanned['Surgical Cure'].str.strip().str.lower() == 'yes')\n",
    "    ]\n",
    "\n",
    "    success_count = success.shape[0]\n",
    "    success_counts[modality] = success_count\n",
    "\n",
    "    success_rate = round((success_count / total_scanned) * 100, 2) if total_scanned > 0 else 0\n",
    "    success_rates[modality] = success_rate\n",
    "\n",
    "# Combines into DataFrame\n",
    "success_df = pd.DataFrame({\n",
    "    'Total Scanned': total_scanned_counts,\n",
    "    'Concordant + Cured': success_counts,\n",
    "    'Success Rate (%)': success_rates\n",
    "})\n",
    "\n",
    "display(success_df)"
   ]
  },
  {
   "cell_type": "code",
   "execution_count": 133,
   "id": "ba4b757c",
   "metadata": {},
   "outputs": [
    {
     "ename": "SyntaxError",
     "evalue": "invalid syntax (3100141400.py, line 29)",
     "output_type": "error",
     "traceback": [
      "\u001b[1;36m  Cell \u001b[1;32mIn[133], line 29\u001b[1;36m\u001b[0m\n\u001b[1;33m    plt.show()layout()\u001b[0m\n\u001b[1;37m              ^\u001b[0m\n\u001b[1;31mSyntaxError\u001b[0m\u001b[1;31m:\u001b[0m invalid syntax\n"
     ]
    }
   ],
   "source": [
    "# Sort the existing success_df by success rate and add Not Cured column\n",
    "sorted_success_df = success_df.copy()\n",
    "sorted_success_df['Not Cured'] = sorted_success_df['Total Scanned'] - sorted_success_df['Concordant + Cured']\n",
    "sorted_success_df = sorted_success_df.sort_values('Success Rate (%)', ascending=False)\n",
    "\n",
    "# Make horizontal bar chart\n",
    "plt.figure(figsize=(10, 6))\n",
    "\n",
    "# Create the bars (using index for modality names)\n",
    "plt.barh(sorted_success_df.index, sorted_success_df['Concordant + Cured'], color='green', label='Concordant + Cured')\n",
    "plt.barh(sorted_success_df.index, sorted_success_df['Not Cured'], left=sorted_success_df['Concordant + Cured'], color='red', label='Not Cured')\n",
    "\n",
    "# Add percentage labels\n",
    "for i in range(len(sorted_success_df)):\n",
    "    cured = sorted_success_df.iloc[i]['Concordant + Cured']\n",
    "    not_cured = sorted_success_df.iloc[i]['Not Cured']\n",
    "    success_rate = sorted_success_df.iloc[i]['Success Rate (%)']\n",
    "    \n",
    "    # Success percentage on green part\n",
    "    plt.text(cured/2, i, f'{success_rate:.1f}%', ha='center', va='center')\n",
    "    # Failure percentage on red part\n",
    "    plt.text(cured + not_cured/2, i, f'{100 - success_rate:.1f}%', ha='center', va='center')\n",
    "\n",
    "plt.xlabel('Number of Patients')\n",
    "plt.title('Success Rates by Imaging Modality')\n",
    "plt.legend()\n",
    "plt.tight_layout()\n",
    "plt.show()"
   ]
  }
 ],
 "metadata": {
  "kernelspec": {
   "display_name": "base",
   "language": "python",
   "name": "python3"
  },
  "language_info": {
   "codemirror_mode": {
    "name": "ipython",
    "version": 3
   },
   "file_extension": ".py",
   "mimetype": "text/x-python",
   "name": "python",
   "nbconvert_exporter": "python",
   "pygments_lexer": "ipython3",
   "version": "3.12.7"
  }
 },
 "nbformat": 4,
 "nbformat_minor": 5
}
