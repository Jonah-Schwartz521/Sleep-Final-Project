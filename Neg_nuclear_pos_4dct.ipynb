{
 "cells": [
  {
   "cell_type": "code",
   "execution_count": 3,
   "id": "81f48702",
   "metadata": {},
   "outputs": [],
   "source": [
    "import pandas as pd \n",
    "preop_imaging_df = pd.read_excel('Data/Clean_imaging_data.xlsx')"
   ]
  },
  {
   "cell_type": "markdown",
   "id": "bc3032ef",
   "metadata": {},
   "source": [
    "Since SPECT/CT and Sestamibi are both nuclear scans, we are combining them into a single column"
   ]
  },
  {
   "cell_type": "code",
   "execution_count": null,
   "id": "26323c01",
   "metadata": {},
   "outputs": [],
   "source": [
    "# create a function to combine the SPECT/CT and Sestamibi \n",
    "def combine_nuclear_scans(row):\n",
    "    \n",
    "    # initialize the modality columns \n",
    "    spect = row['SPECT/CT']\n",
    "    sestamibi = row['Sestamibi']\n",
    "    \n",
    "    # remove missing entries\n",
    "    spect_missing = pd.isnull(spect) or spect == 'No Scan'\n",
    "    sestamibi_missing = pd.isnull(sestamibi) or sestamibi == 'No Scan'\n",
    "    if spect_missing and sestamibi_missing:\n",
    "        return 'No SPECT/CT or Sestamibi Recorded'\n",
    "    \n",
    "    # check if both scans are present \n",
    "    if not spect_missing and not sestamibi_missing:\n",
    "        return f\"SPECT/CT: {spect} | Sestamibi: {sestamibi}\"\n",
    "    \n",
    "    # check for spect scans \n",
    "    if not spect_missing:\n",
    "        return f\"SPECT/CT: {spect}\"\n",
    "    \n",
    "    # otherwise return the sestamibi scan \n",
    "    return f\"Sestamibi: {sestamibi}\""
   ]
  },
  {
   "cell_type": "code",
   "execution_count": 5,
   "id": "43ed47cb",
   "metadata": {},
   "outputs": [],
   "source": [
    "# apply this function across the whole dataset and create the new column \n",
    "preop_imaging_df['SPECT/CT-Sestamibi'] = preop_imaging_df.apply(combine_nuclear_scans, axis=1)\n",
    "\n",
    "# filter for only the non-localizing nuclear scans \n",
    "neg_nuclear = preop_imaging_df[preop_imaging_df['SPECT/CT-Sestamibi'].str.contains('Non-localizing')]\n",
    "\n",
    "# create a function that checks defines localization \n",
    "def is_localizing(scan):\n",
    "    if pd.isnull(scan):\n",
    "        return False\n",
    "    scan = scan.strip()\n",
    "    return scan not in ['No Scan', 'Non-localizing']"
   ]
  },
  {
   "cell_type": "code",
   "execution_count": 8,
   "id": "fe2b5110",
   "metadata": {},
   "outputs": [
    {
     "name": "stdout",
     "output_type": "stream",
     "text": [
      "Out of 112 nuclear-negative cases, 54 had a localizing 4D CT scan.\n"
     ]
    }
   ],
   "source": [
    "# avoid the the copyright warning\n",
    "neg_nuclear = neg_nuclear.copy() \n",
    "\n",
    "# out of the negative nuclear scans, filter for positive 4D CT\n",
    "neg_nuclear['4D CT Positive'] = neg_nuclear['4D CT Scan'].apply(is_localizing)\n",
    "\n",
    "# count total and positive cases \n",
    "total_neg_nuclear = neg_nuclear.shape[0]\n",
    "num_4dct_positive = neg_nuclear['4D CT Positive'].sum()\n",
    "\n",
    "print(f\"Out of {total_neg_nuclear} nuclear-negative cases, {num_4dct_positive} had a localizing 4D CT scan.\")\n"
   ]
  },
  {
   "cell_type": "markdown",
   "id": "28f4018f",
   "metadata": {},
   "source": [
    "**How accurate were these 4D CT scans?**"
   ]
  },
  {
   "cell_type": "code",
   "execution_count": 16,
   "id": "f7dc6a54",
   "metadata": {},
   "outputs": [
    {
     "name": "stdout",
     "output_type": "stream",
     "text": [
      "  4D CT Scan Calculated Concordance  Count  Percentage\n",
      "0                       Yes (Exact)     24        44.4\n",
      "1            Incorrect Localization     18        33.3\n",
      "2                        Yes (Side)     12        22.2\n"
     ]
    }
   ],
   "source": [
    "# filter to these 54 occurances\n",
    "neg_nuclear_pos_4dct = neg_nuclear[neg_nuclear['4D CT Positive']]\n",
    "\n",
    "# get the summary \n",
    "breakdown = neg_nuclear_pos_4dct['4D CT Scan Calculated Concordance'].value_counts()\n",
    "\n",
    "# get percentages\n",
    "breakdown_percent = breakdown / breakdown.sum() * 100\n",
    "\n",
    "# combine count and percentage into a summary DataFrame\n",
    "summary_df = pd.DataFrame({\n",
    "    'Count': breakdown,\n",
    "    'Percentage': breakdown_percent.round(1)\n",
    "}).reset_index().rename(columns={'index': 'Concordance Type'})\n",
    "\n",
    "print(summary_df)"
   ]
  },
  {
   "cell_type": "code",
   "execution_count": null,
   "id": "26e3270a",
   "metadata": {},
   "outputs": [],
   "source": []
  }
 ],
 "metadata": {
  "kernelspec": {
   "display_name": "base",
   "language": "python",
   "name": "python3"
  },
  "language_info": {
   "codemirror_mode": {
    "name": "ipython",
    "version": 3
   },
   "file_extension": ".py",
   "mimetype": "text/x-python",
   "name": "python",
   "nbconvert_exporter": "python",
   "pygments_lexer": "ipython3",
   "version": "3.12.4"
  }
 },
 "nbformat": 4,
 "nbformat_minor": 5
}
