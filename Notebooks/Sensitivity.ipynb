{
 "cells": [
  {
   "cell_type": "markdown",
   "id": "0ad033a1",
   "metadata": {
    "vscode": {
     "languageId": "raw"
    }
   },
   "source": [
    "# Sensitivity Analysis for Imaging Modalities\n",
    "\n",
    "## What is Sensitivity?\n",
    "\n",
    "Sensitivity measures how good a test is at finding problems that actually exist. It answers the question: \"When there really is a parathyroid gland to find, how often does the scan actually find it?\"\n",
    "\n",
    "An easy way to think of it is if 100 patients have parathyroid disease, sensitivity tells us how many of those 100 the scan will successfully detect.\n",
    "\n",
    "## How We Calculate Sensitivity\n",
    "\n",
    "Sensitivity is calculated using this formula:\n",
    "```\n",
    "Sensitivity = (Correctly Found Cases) / (All Cases with Disease) × 100\n",
    "```\n",
    "\n",
    "For our study:\n",
    "- **Correctly Found Cases (True Positives)**: Scans that successfully located the parathyroid gland\n",
    "- **Missed Cases (False Negatives)**: Scans that were \"Non-localizing\" but surgery found disease\n",
    "- **All Cases with Disease**: Both found and missed cases combined\n",
    "\n",
    "## What We Include and Exclude\n",
    "\n",
    "We included all patients who had surgery (meaning they had confirmed disease):\n",
    "- **True Positives**: Scans that found the gland in the right place\n",
    "- **False Negatives**: Scans that said \"Non-localizing\" but surgery found disease anyway\n",
    "\n",
    "We excluded cases where no scan was done (NaN/missing data) because we can't measure what wasn't tested.\n",
    "\n",
    "## Why Sensitivity Matters\n",
    "\n",
    "High sensitivity (close to 100%) means the scan rarely misses disease. If a scan has 90% sensitivity, it will find 9 out of 10 cases of parathyroid disease. This helps doctors know which scans are best for initial screening and detection.\n"
   ]
  },
  {
   "cell_type": "markdown",
   "id": "63376126",
   "metadata": {},
   "source": [
    "Import"
   ]
  },
  {
   "cell_type": "code",
   "execution_count": 46,
   "id": "5654a209",
   "metadata": {},
   "outputs": [],
   "source": [
    "import pandas as pd \n",
    "import matplotlib.pyplot as plt"
   ]
  },
  {
   "cell_type": "markdown",
   "id": "3899a3ae",
   "metadata": {},
   "source": [
    "Read Data"
   ]
  },
  {
   "cell_type": "code",
   "execution_count": null,
   "id": "9c981940",
   "metadata": {},
   "outputs": [],
   "source": [
    "preop_imaging_df = pd.read_excel('../Data/final_clean_imaging_data.xlsx')"
   ]
  },
  {
   "cell_type": "markdown",
   "id": "de23a41a",
   "metadata": {},
   "source": [
    "## Function that Calculates the Sensitivity for each Respective Imaging Modality\n",
    "\n",
    "### Parameters\n",
    "- **df**: the dataframe with imaging and concordance data  \n",
    "- **modality_name**: the name of the scan column (e.g. `'4D CT Scan'`)\n",
    "\n",
    "### Returns\n",
    "- **sensitivity**: true positives / (true positives + false negatives)  \n",
    "- **true_positives**: scans that matched surgery (exact or side)  \n",
    "- **false_negatives**: scans that were non-localizing but surgery found disease\n",
    "\n"
   ]
  },
  {
   "cell_type": "code",
   "execution_count": 48,
   "id": "2798eb5b",
   "metadata": {},
   "outputs": [],
   "source": [
    "def calculate_sensitivity(df, modality_name):\n",
    "    \n",
    "    # Initializes the concordance columns\n",
    "    concordance_col = f\"{modality_name} Calculated Concordance\"\n",
    "    \n",
    "    # Defines true positives as exact or side matches \n",
    "    localized_results = df[df[concordance_col].isin(['Yes (Exact)', 'Yes (Side)'])]\n",
    "    \n",
    "    # Defines false negatives as non-localizing scan but sugery found disease \n",
    "    nonlocalized_results = df[df[modality_name] == 'Non-localizing']\n",
    "    \n",
    "    # Calculates the total true positives and false negatives \n",
    "    true_positives = len(localized_results)\n",
    "    false_negatives = len(nonlocalized_results)\n",
    "    \n",
    "    # Avoids dividing by 0 \n",
    "    if true_positives + false_negatives == 0:\n",
    "        return None, 0, 0\n",
    "    \n",
    "    # Defines and calculates sensitivity \n",
    "    sensitivity = true_positives / (true_positives + false_negatives)\n",
    "    return sensitivity, true_positives, false_negatives"
   ]
  },
  {
   "cell_type": "markdown",
   "id": "391e414a",
   "metadata": {},
   "source": [
    "### Function Test"
   ]
  },
  {
   "cell_type": "code",
   "execution_count": 49,
   "id": "09f54e8b",
   "metadata": {},
   "outputs": [
    {
     "name": "stdout",
     "output_type": "stream",
     "text": [
      "4D CT Scan Sensitivity: 71.20% (136 TP / 191 total)\n"
     ]
    }
   ],
   "source": [
    "# Tests the function to make sure it works \n",
    "sensitivity, true_positives, false_negatives = calculate_sensitivity(preop_imaging_df, '4D CT Scan')\n",
    "print(f\"4D CT Scan Sensitivity: {sensitivity:.2%} ({true_positives} TP / {true_positives + false_negatives} total)\")\n"
   ]
  },
  {
   "cell_type": "markdown",
   "id": "74d78c0e",
   "metadata": {},
   "source": [
    "## Sensitivity Analysis Results\n",
    "Calculate and display the Sensitivity for each imaging modality"
   ]
  },
  {
   "cell_type": "code",
   "execution_count": 50,
   "id": "d3de45e9",
   "metadata": {},
   "outputs": [],
   "source": [
    "# Defines the list of modalities \n",
    "modalities = ['SPECT/CT', '4D CT Scan', 'Ultrasound', 'Sestamibi']\n",
    "\n",
    "# Initializes a list to store the results \n",
    "results = []\n",
    "\n",
    "# Iterates through each individual modality \n",
    "for modality in modalities:\n",
    "   \n",
    "    # Calls the sensitivity function \n",
    "    sensitivity, true_positives, false_negatives = calculate_sensitivity(preop_imaging_df, modality)\n",
    "    \n",
    "    # Makes sure it isn't null\n",
    "    if sensitivity is not None:\n",
    "        \n",
    "        # Appends each result to its respective modality\n",
    "         results.append({\n",
    "            'Modality': modality,\n",
    "            # Rounds the sensitivity\n",
    "            'Sensitivity': round(sensitivity, 4),  \n",
    "            'True Positives': true_positives,\n",
    "            'False Negatives': false_negatives,\n",
    "            'Total with Disease': true_positives + false_negatives\n",
    "        })"
   ]
  },
  {
   "cell_type": "code",
   "execution_count": 51,
   "id": "b04175d1",
   "metadata": {},
   "outputs": [],
   "source": [
    "# Converts the list of dicts to a DataFrame\n",
    "sensitivity_df = pd.DataFrame(results)"
   ]
  },
  {
   "cell_type": "code",
   "execution_count": 52,
   "id": "435a411b",
   "metadata": {},
   "outputs": [
    {
     "data": {
      "text/html": [
       "<div>\n",
       "<style scoped>\n",
       "    .dataframe tbody tr th:only-of-type {\n",
       "        vertical-align: middle;\n",
       "    }\n",
       "\n",
       "    .dataframe tbody tr th {\n",
       "        vertical-align: top;\n",
       "    }\n",
       "\n",
       "    .dataframe thead th {\n",
       "        text-align: right;\n",
       "    }\n",
       "</style>\n",
       "<table border=\"1\" class=\"dataframe\">\n",
       "  <thead>\n",
       "    <tr style=\"text-align: right;\">\n",
       "      <th></th>\n",
       "      <th>Modality</th>\n",
       "      <th>Sensitivity</th>\n",
       "      <th>True Positives</th>\n",
       "      <th>False Negatives</th>\n",
       "      <th>Total with Disease</th>\n",
       "    </tr>\n",
       "  </thead>\n",
       "  <tbody>\n",
       "    <tr>\n",
       "      <th>0</th>\n",
       "      <td>SPECT/CT</td>\n",
       "      <td>0.7476</td>\n",
       "      <td>154</td>\n",
       "      <td>52</td>\n",
       "      <td>206</td>\n",
       "    </tr>\n",
       "    <tr>\n",
       "      <th>1</th>\n",
       "      <td>4D CT Scan</td>\n",
       "      <td>0.7120</td>\n",
       "      <td>136</td>\n",
       "      <td>55</td>\n",
       "      <td>191</td>\n",
       "    </tr>\n",
       "    <tr>\n",
       "      <th>2</th>\n",
       "      <td>Ultrasound</td>\n",
       "      <td>0.5074</td>\n",
       "      <td>69</td>\n",
       "      <td>67</td>\n",
       "      <td>136</td>\n",
       "    </tr>\n",
       "    <tr>\n",
       "      <th>3</th>\n",
       "      <td>Sestamibi</td>\n",
       "      <td>0.6391</td>\n",
       "      <td>108</td>\n",
       "      <td>61</td>\n",
       "      <td>169</td>\n",
       "    </tr>\n",
       "  </tbody>\n",
       "</table>\n",
       "</div>"
      ],
      "text/plain": [
       "     Modality  Sensitivity  True Positives  False Negatives  \\\n",
       "0    SPECT/CT       0.7476             154               52   \n",
       "1  4D CT Scan       0.7120             136               55   \n",
       "2  Ultrasound       0.5074              69               67   \n",
       "3   Sestamibi       0.6391             108               61   \n",
       "\n",
       "   Total with Disease  \n",
       "0                 206  \n",
       "1                 191  \n",
       "2                 136  \n",
       "3                 169  "
      ]
     },
     "execution_count": 52,
     "metadata": {},
     "output_type": "execute_result"
    }
   ],
   "source": [
    "sensitivity_df"
   ]
  },
  {
   "cell_type": "markdown",
   "id": "1bdd4368",
   "metadata": {
    "vscode": {
     "languageId": "raw"
    }
   },
   "source": [
    "## Making the Results Look Better\n",
    "\n",
    "We cleaned up the data so it's easier to understand:\n",
    "- Change the sensitivity numbers from decimals like 0.85 to percentages like 85%\n",
    "- Round everything to 2 decimal places so it's not messy\n",
    "- Put the columns in a better order with the most important stuff first\n"
   ]
  },
  {
   "cell_type": "code",
   "execution_count": 53,
   "id": "8daa6aaf",
   "metadata": {},
   "outputs": [],
   "source": [
    "# Creates a new column that formats the sensitivity as a percentage \n",
    "sensitivity_df['Sensitivity (%)'] = (sensitivity_df['Sensitivity'] * 100).round(2)\n",
    "\n",
    "# Moves that column to the front\n",
    "sensitivity_df = sensitivity_df[['Modality', 'Sensitivity (%)', 'True Positives', 'False Negatives', 'Total with Disease']]"
   ]
  },
  {
   "cell_type": "markdown",
   "id": "bb56e9e9",
   "metadata": {
    "vscode": {
     "languageId": "raw"
    }
   },
   "source": [
    "## Sensitivity Comparison Chart\n"
   ]
  },
  {
   "cell_type": "code",
   "execution_count": 54,
   "id": "d06d5f99",
   "metadata": {},
   "outputs": [
    {
     "data": {
      "image/png": "[encoded data removed]",
      "text/plain": [
       "<Figure size 1000x600 with 1 Axes>"
      ]
     },
     "metadata": {},
     "output_type": "display_data"
    }
   ],
   "source": [
    "# Sorts by sensitivity (highest to lowest)\n",
    "sorted_data = sensitivity_df.sort_values('Sensitivity (%)', ascending=True) \n",
    "\n",
    "plt.figure(figsize=(10, 6))\n",
    "colors = ['#66c2a5', '#fc8d62', '#8da0cb', '#e78ac3', '#a6d854']\n",
    "bars = plt.barh(sorted_data['Modality'], sorted_data['Sensitivity (%)'], color=colors)\n",
    "\n",
    "# Adds percentage labels on the bars\n",
    "for i, v in enumerate(sorted_data['Sensitivity (%)']):\n",
    "    plt.text(v + 1, i, f'{v}%')\n",
    "\n",
    "plt.title('Sensitivity by Imaging Modality')\n",
    "plt.xlabel('Sensitivity (%)')\n",
    "plt.ylabel('Imaging Modality')\n",
    "plt.xlim(0, 100)  \n",
    "plt.tight_layout()\n",
    "plt.show()\n"
   ]
  },
  {
   "cell_type": "markdown",
   "id": "e9d8287e",
   "metadata": {},
   "source": [
    "## Results Summary\n",
    "\n",
    "### Sensitivity Rankings (Highest to Lowest)\n",
    "1. **SPECT/CT: 74.8%** - Best at detecting disease when present\n",
    "2. **4D CT Scan: 71.2%** - Good detection capability  \n",
    "3. **Sestamibi: 63.9%** - Moderate detection rate\n",
    "4. **Ultrasound: 50.7%** - Lowest detection rate\n",
    "\n",
    "### Key Takeaways\n",
    "- **SPECT/CT** is the most sensitive scan, finding disease in 3 out of 4 cases\n",
    "- **4D CT** performs similarly well, detecting about 7 out of 10 cases\n",
    "- **Nuclear medicine scans** (SPECT/CT, Sestamibi) generally outperform ultrasound\n",
    "- **Ultrasound** misses nearly half of all cases, making it less reliable for initial screening\n",
    "- All modalities have room for improvement in detection rates\n"
   ]
  }
 ],
 "metadata": {
  "kernelspec": {
   "display_name": "base",
   "language": "python",
   "name": "python3"
  },
  "language_info": {
   "codemirror_mode": {
    "name": "ipython",
    "version": 3
   },
   "file_extension": ".py",
   "mimetype": "text/x-python",
   "name": "python",
   "nbconvert_exporter": "python",
   "pygments_lexer": "ipython3",
   "version": "3.12.4"
  }
 },
 "nbformat": 4,
 "nbformat_minor": 5
}
