{
  "cells": [
    {
      "cell_type": "code",
      "execution_count": null,
      "metadata": {},
      "outputs": [],
      "source": [
        "import pandas as pd\n",
        "import numpy as np\n",
        "import matplotlib.pyplot as plt\n",
        "\n",
        "# Read the data\n",
        "df = pd.read_excel('data/raw_imaging_data.xlsx')\n",
        "\n",
        "# Clean column names by removing whitespace\n",
        "df.columns = df.columns.str.strip()\n",
        "\n",
        "# Check for null values\n",
        "print(\"Null value counts:\")\n",
        "print(df.isna().sum())\n",
        "\n",
        "# Find rows with null ages\n",
        "print(\"\\nRows with null ages:\")\n",
        "print(df[df['Age'].isna()][['Patient ID']])\n"
      ]
    }
  ],
  "metadata": {
    "kernelspec": {
      "display_name": "base",
      "language": "python",
      "name": "python3"
    },
    "language_info": {
      "name": "python",
      "version": "3.12.7"
    }
  },
  "nbformat": 4,
  "nbformat_minor": 2
}
