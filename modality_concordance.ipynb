{
 "cells": [
  {
   "cell_type": "markdown",
   "id": "4e838626",
   "metadata": {},
   "source": [
    "# Pre-operative Imaging Concordance Analysis"
   ]
  },
  {
   "cell_type": "markdown",
   "id": "245689d8",
   "metadata": {},
   "source": [
    "## Concordance Analysis"
   ]
  },
  {
   "cell_type": "markdown",
   "id": "5dd1d142",
   "metadata": {},
   "source": [
    "Imports "
   ]
  },
  {
   "cell_type": "code",
   "execution_count": 11,
   "id": "1c7bdfb2",
   "metadata": {},
   "outputs": [],
   "source": [
    "import pandas as pd\n",
    "import numpy as np\n",
    "import matplotlib.pyplot as plt"
   ]
  },
  {
   "cell_type": "markdown",
   "id": "9f235043",
   "metadata": {},
   "source": [
    "Reading in the Raw Data"
   ]
  },
  {
   "cell_type": "code",
   "execution_count": null,
   "id": "c567fc6d",
   "metadata": {},
   "outputs": [
    {
     "name": "stdout",
     "output_type": "stream",
     "text": [
      "<class 'pandas.core.frame.DataFrame'>\n",
      "RangeIndex: 405 entries, 0 to 404\n",
      "Data columns (total 11 columns):\n",
      " #   Column             Non-Null Count  Dtype         \n",
      "---  ------             --------------  -----         \n",
      " 0   Date of Procedure  405 non-null    datetime64[ns]\n",
      " 1   Patient ID         405 non-null    int64         \n",
      " 2   Age                403 non-null    object        \n",
      " 3   Gender             405 non-null    object        \n",
      " 4   Surgical Findings  405 non-null    object        \n",
      " 5   Surgical Cure      405 non-null    object        \n",
      " 6   SPECT/CT           230 non-null    object        \n",
      " 7   Ultrasound         145 non-null    object        \n",
      " 8   4D CT Scan         228 non-null    object        \n",
      " 9   Sestamibi          174 non-null    object        \n",
      " 10  MRI                15 non-null     object        \n",
      "dtypes: datetime64[ns](1), int64(1), object(9)\n",
      "memory usage: 34.9+ KB\n"
     ]
    },
    {
     "data": {
      "text/html": [
       "<div>\n",
       "<style scoped>\n",
       "    .dataframe tbody tr th:only-of-type {\n",
       "        vertical-align: middle;\n",
       "    }\n",
       "\n",
       "    .dataframe tbody tr th {\n",
       "        vertical-align: top;\n",
       "    }\n",
       "\n",
       "    .dataframe thead th {\n",
       "        text-align: right;\n",
       "    }\n",
       "</style>\n",
       "<table border=\"1\" class=\"dataframe\">\n",
       "  <thead>\n",
       "    <tr style=\"text-align: right;\">\n",
       "      <th></th>\n",
       "      <th>Date of Procedure</th>\n",
       "      <th>Patient ID</th>\n",
       "    </tr>\n",
       "  </thead>\n",
       "  <tbody>\n",
       "    <tr>\n",
       "      <th>count</th>\n",
       "      <td>405</td>\n",
       "      <td>405.000000</td>\n",
       "    </tr>\n",
       "    <tr>\n",
       "      <th>mean</th>\n",
       "      <td>2020-05-21 18:36:26.666666752</td>\n",
       "      <td>243753.325926</td>\n",
       "    </tr>\n",
       "    <tr>\n",
       "      <th>min</th>\n",
       "      <td>2012-04-24 00:00:00</td>\n",
       "      <td>150174.000000</td>\n",
       "    </tr>\n",
       "    <tr>\n",
       "      <th>25%</th>\n",
       "      <td>2017-11-08 00:00:00</td>\n",
       "      <td>209246.000000</td>\n",
       "    </tr>\n",
       "    <tr>\n",
       "      <th>50%</th>\n",
       "      <td>2021-03-04 00:00:00</td>\n",
       "      <td>251240.000000</td>\n",
       "    </tr>\n",
       "    <tr>\n",
       "      <th>75%</th>\n",
       "      <td>2023-04-06 00:00:00</td>\n",
       "      <td>281328.000000</td>\n",
       "    </tr>\n",
       "    <tr>\n",
       "      <th>max</th>\n",
       "      <td>2025-05-13 00:00:00</td>\n",
       "      <td>312172.000000</td>\n",
       "    </tr>\n",
       "    <tr>\n",
       "      <th>std</th>\n",
       "      <td>NaN</td>\n",
       "      <td>44989.927258</td>\n",
       "    </tr>\n",
       "  </tbody>\n",
       "</table>\n",
       "</div>"
      ],
      "text/plain": [
       "                   Date of Procedure     Patient ID\n",
       "count                            405     405.000000\n",
       "mean   2020-05-21 18:36:26.666666752  243753.325926\n",
       "min              2012-04-24 00:00:00  150174.000000\n",
       "25%              2017-11-08 00:00:00  209246.000000\n",
       "50%              2021-03-04 00:00:00  251240.000000\n",
       "75%              2023-04-06 00:00:00  281328.000000\n",
       "max              2025-05-13 00:00:00  312172.000000\n",
       "std                              NaN   44989.927258"
      ]
     },
     "execution_count": 12,
     "metadata": {},
     "output_type": "execute_result"
    }
   ],
   "source": [
    "df = pd.read_excel('data/raw_imaging_data.xlsx')\n",
    "\n",
    "df.head()\n",
    "df.info()\n",
    "df.describe()"
   ]
  },
  {
   "cell_type": "markdown",
   "id": "dacbda55",
   "metadata": {},
   "source": [
    "### Exploratory Data Analysis\n",
    "\n",
    "#### **Dataset Size & Coverage**\n",
    "- We've got **405 procedures** to work with\n",
    "- The data spans from **2012 to 2025**\n",
    "- Most procedures happened around **2021**\n",
    "\n",
    "\n",
    "#### **Quick Observations**\n",
    "- No missing data in our main columns (Date of Procedure, Patient ID) \n",
    "- Pretty even distribution of patient IDs suggests good coverage across different patients\n",
    "- The date column is already in a datetime format\n",
    "- "
   ]
  },
  {
   "cell_type": "code",
   "execution_count": null,
   "id": "a710a9c8",
   "metadata": {},
   "outputs": [
    {
     "data": {
      "text/plain": [
       "Date of Procedure      0\n",
       "Patient ID             0\n",
       "Age                    2\n",
       "Gender                 0\n",
       "Surgical Findings      0\n",
       "Surgical Cure          0\n",
       "SPECT/CT             175\n",
       "Ultrasound           260\n",
       "4D CT Scan           177\n",
       "Sestamibi            231\n",
       "MRI                  390\n",
       "dtype: int64"
      ]
     },
     "execution_count": 13,
     "metadata": {},
     "output_type": "execute_result"
    }
   ],
   "source": [
    "df.isna().sum()\n",
    "\n",
    "# This shows us that we're missing two entries in the age columns\n",
    "\n",
    "# The date column is already in a datetime format\n",
    "\n",
    "\n"
   ]
  }
 ],
 "metadata": {
  "kernelspec": {
   "display_name": "base",
   "language": "python",
   "name": "python3"
  },
  "language_info": {
   "codemirror_mode": {
    "name": "ipython",
    "version": 3
   },
   "file_extension": ".py",
   "mimetype": "text/x-python",
   "name": "python",
   "nbconvert_exporter": "python",
   "pygments_lexer": "ipython3",
   "version": "3.12.7"
  }
 },
 "nbformat": 4,
 "nbformat_minor": 5
}
