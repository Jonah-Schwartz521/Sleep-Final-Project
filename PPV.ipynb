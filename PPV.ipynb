{
 "cells": [
  {
   "cell_type": "markdown",
   "id": "8c487a6d",
   "metadata": {
    "vscode": {
     "languageId": "raw"
    }
   },
   "source": [
    "# Positive Predictive Value Analysis for Imaging Modalities\n",
    "\n",
    "## Introduction to PPV in Medical Imaging\n",
    "\n",
    "Positive Predictive Value (PPV) is a key metric in medical imaging that tells us how reliable a positive test result is. It answers the question: \"When the test says there's something there, how often is it actually there?\"\n",
    "\n",
    "PPV is calculated as:\n",
    "```\n",
    "PPV = (True Positives) / (True Positives + False Positives)\n",
    "```\n",
    "\n",
    "- True Positives: Exact, Side, or Partial matches\n",
    "- False Positives: Incorrect Localization\n",
    "- Outputs total localized scans, match counts, and PPV %.\n",
    "\n",
    "PPV works together with the other metrics we have:\n",
    "- Sensitivity tells us how good a test is at finding actual problems\n",
    "- Modality concordance looks at when different imaging methods agree with each other\n",
    "\n",
    "For parathyroid imaging, high PPV means we can trust positive findings to guide surgery. When multiple imaging methods agree (concordance), it often increases our confidence in the results.\n"
   ]
  },
  {
   "cell_type": "markdown",
   "id": "b449394f",
   "metadata": {},
   "source": [
    "Import"
   ]
  },
  {
   "cell_type": "code",
   "execution_count": 1,
   "id": "62ab429c",
   "metadata": {},
   "outputs": [],
   "source": [
    "# Import needed libraries\n",
    "import pandas as pd\n",
    "import numpy as np\n",
    "import matplotlib.pyplot as plt"
   ]
  },
  {
   "cell_type": "markdown",
   "id": "295617e8",
   "metadata": {},
   "source": [
    "Reading Data"
   ]
  },
  {
   "cell_type": "code",
   "execution_count": 2,
   "id": "74866df6",
   "metadata": {},
   "outputs": [],
   "source": [
    "# Read the data\n",
    "data = pd.read_excel(\"Data/Clean_imaging_data.xlsx\")"
   ]
  },
  {
   "cell_type": "code",
   "execution_count": 4,
   "id": "c0591e9e",
   "metadata": {},
   "outputs": [
    {
     "name": "stdout",
     "output_type": "stream",
     "text": [
      "Column names:\n",
      "['Date of Procedure', 'Patient ID', 'Age', 'Gender', 'Surgical Findings', 'Surgical Cure', 'SPECT/CT', 'Ultrasound', '4D CT Scan', 'Sestamibi', 'MRI', 'SPECT/CT Calculated Concordance', '4D CT Scan Calculated Concordance', 'Ultrasound Calculated Concordance', 'Sestamibi Calculated Concordance', 'MRI Calculated Concordance', 'Surgical Side']\n",
      "\n",
      "First few rows:\n",
      "  Date of Procedure  Patient ID  Age Gender              Surgical Findings  \\\n",
      "0        2012-04-24      156895   77      F                 Right Inferior   \n",
      "1        2012-05-08      182059   70      F                  Left Inferior   \n",
      "2        2012-05-22      150593   65      F                  Left Inferior   \n",
      "3        2012-07-03      183346   69      F  Left Superior, Right Superior   \n",
      "4        2012-07-18      183255   74      F                  Left Superior   \n",
      "\n",
      "  Surgical Cure SPECT/CT      Ultrasound 4D CT Scan       Sestamibi  \\\n",
      "0           Yes      NaN             NaN        NaN  Right Inferior   \n",
      "1           Yes      NaN  Non-localizing        NaN  Non-localizing   \n",
      "2           Yes      NaN   Left Inferior        NaN   Left Inferior   \n",
      "3           Yes      NaN             NaN        NaN   Left Inferior   \n",
      "4           Yes      NaN            Left        NaN            Left   \n",
      "\n",
      "              MRI SPECT/CT Calculated Concordance  \\\n",
      "0  Right Inferior                         Unknown   \n",
      "1  Right Inferior                         Unknown   \n",
      "2             NaN                         Unknown   \n",
      "3  Non-localizing                         Unknown   \n",
      "4             NaN                         Unknown   \n",
      "\n",
      "  4D CT Scan Calculated Concordance Ultrasound Calculated Concordance  \\\n",
      "0                           Unknown                           Unknown   \n",
      "1                           Unknown                    Non-localizing   \n",
      "2                           Unknown                       Yes (Exact)   \n",
      "3                           Unknown                           Unknown   \n",
      "4                           Unknown                        Yes (Side)   \n",
      "\n",
      "  Sestamibi Calculated Concordance MRI Calculated Concordance Surgical Side  \n",
      "0                      Yes (Exact)                Yes (Exact)         Right  \n",
      "1                   Non-localizing     Incorrect Localization          Left  \n",
      "2                      Yes (Exact)                    Unknown          Left  \n",
      "3                       Yes (Side)             Non-localizing  Left & Right  \n",
      "4                       Yes (Side)                    Unknown          Left  \n"
     ]
    }
   ],
   "source": [
    "# Print column names and first few rows\n",
    "print(\"Column names:\")\n",
    "print(data.columns.tolist())\n",
    "print(\"\\nFirst few rows:\")\n",
    "print(data.head())"
   ]
  },
  {
   "cell_type": "markdown",
   "id": "b9a7217a",
   "metadata": {
    "vscode": {
     "languageId": "raw"
    }
   },
   "source": [
    "## 1. SPECT/CT Analysis\n",
    "\n",
    "Analysis Steps:\n",
    "1. Filter data for SPECT/CT results\n",
    "2. Count true positives (correctly identified glands) and false positives (incorrect identifications)\n",
    "3. Calculate PPV to see how reliable positive SPECT/CT findings are\n",
    "4. Create visualization of results\n"
   ]
  },
  {
   "cell_type": "code",
   "execution_count": 3,
   "id": "25dbbe11",
   "metadata": {},
   "outputs": [
    {
     "ename": "KeyError",
     "evalue": "'imaging_type'",
     "output_type": "error",
     "traceback": [
      "\u001b[1;31m---------------------------------------------------------------------------\u001b[0m",
      "\u001b[1;31mKeyError\u001b[0m                                  Traceback (most recent call last)",
      "File \u001b[1;32mc:\\Users\\XeNoJ\\anaconda3\\Lib\\site-packages\\pandas\\core\\indexes\\base.py:3805\u001b[0m, in \u001b[0;36mIndex.get_loc\u001b[1;34m(self, key)\u001b[0m\n\u001b[0;32m   3804\u001b[0m \u001b[38;5;28;01mtry\u001b[39;00m:\n\u001b[1;32m-> 3805\u001b[0m     \u001b[38;5;28;01mreturn\u001b[39;00m \u001b[38;5;28mself\u001b[39m\u001b[38;5;241m.\u001b[39m_engine\u001b[38;5;241m.\u001b[39mget_loc(casted_key)\n\u001b[0;32m   3806\u001b[0m \u001b[38;5;28;01mexcept\u001b[39;00m \u001b[38;5;167;01mKeyError\u001b[39;00m \u001b[38;5;28;01mas\u001b[39;00m err:\n",
      "File \u001b[1;32mindex.pyx:167\u001b[0m, in \u001b[0;36mpandas._libs.index.IndexEngine.get_loc\u001b[1;34m()\u001b[0m\n",
      "File \u001b[1;32mindex.pyx:196\u001b[0m, in \u001b[0;36mpandas._libs.index.IndexEngine.get_loc\u001b[1;34m()\u001b[0m\n",
      "File \u001b[1;32mpandas\\\\_libs\\\\hashtable_class_helper.pxi:7081\u001b[0m, in \u001b[0;36mpandas._libs.hashtable.PyObjectHashTable.get_item\u001b[1;34m()\u001b[0m\n",
      "File \u001b[1;32mpandas\\\\_libs\\\\hashtable_class_helper.pxi:7089\u001b[0m, in \u001b[0;36mpandas._libs.hashtable.PyObjectHashTable.get_item\u001b[1;34m()\u001b[0m\n",
      "\u001b[1;31mKeyError\u001b[0m: 'imaging_type'",
      "\nThe above exception was the direct cause of the following exception:\n",
      "\u001b[1;31mKeyError\u001b[0m                                  Traceback (most recent call last)",
      "Cell \u001b[1;32mIn[3], line 4\u001b[0m\n\u001b[0;32m      1\u001b[0m \u001b[38;5;66;03m# SPECT/CT PPV Analysis\u001b[39;00m\n\u001b[0;32m      2\u001b[0m \n\u001b[0;32m      3\u001b[0m \u001b[38;5;66;03m# Filter for SPECT/CT scans\u001b[39;00m\n\u001b[1;32m----> 4\u001b[0m spect_ct_data \u001b[38;5;241m=\u001b[39m data[data[\u001b[38;5;124m'\u001b[39m\u001b[38;5;124mimaging_type\u001b[39m\u001b[38;5;124m'\u001b[39m] \u001b[38;5;241m==\u001b[39m \u001b[38;5;124m'\u001b[39m\u001b[38;5;124mSPECT/CT\u001b[39m\u001b[38;5;124m'\u001b[39m]  \u001b[38;5;66;03m# adjust column name as per your data\u001b[39;00m\n\u001b[0;32m      6\u001b[0m \u001b[38;5;66;03m# Count matches\u001b[39;00m\n\u001b[0;32m      7\u001b[0m true_positives \u001b[38;5;241m=\u001b[39m \u001b[38;5;28mlen\u001b[39m(spect_ct_data[spect_ct_data[\u001b[38;5;124m'\u001b[39m\u001b[38;5;124mmatch_type\u001b[39m\u001b[38;5;124m'\u001b[39m]\u001b[38;5;241m.\u001b[39misin([\u001b[38;5;124m'\u001b[39m\u001b[38;5;124mExact\u001b[39m\u001b[38;5;124m'\u001b[39m, \u001b[38;5;124m'\u001b[39m\u001b[38;5;124mSide\u001b[39m\u001b[38;5;124m'\u001b[39m, \u001b[38;5;124m'\u001b[39m\u001b[38;5;124mPartial\u001b[39m\u001b[38;5;124m'\u001b[39m])])\n",
      "File \u001b[1;32mc:\\Users\\XeNoJ\\anaconda3\\Lib\\site-packages\\pandas\\core\\frame.py:4102\u001b[0m, in \u001b[0;36mDataFrame.__getitem__\u001b[1;34m(self, key)\u001b[0m\n\u001b[0;32m   4100\u001b[0m \u001b[38;5;28;01mif\u001b[39;00m \u001b[38;5;28mself\u001b[39m\u001b[38;5;241m.\u001b[39mcolumns\u001b[38;5;241m.\u001b[39mnlevels \u001b[38;5;241m>\u001b[39m \u001b[38;5;241m1\u001b[39m:\n\u001b[0;32m   4101\u001b[0m     \u001b[38;5;28;01mreturn\u001b[39;00m \u001b[38;5;28mself\u001b[39m\u001b[38;5;241m.\u001b[39m_getitem_multilevel(key)\n\u001b[1;32m-> 4102\u001b[0m indexer \u001b[38;5;241m=\u001b[39m \u001b[38;5;28mself\u001b[39m\u001b[38;5;241m.\u001b[39mcolumns\u001b[38;5;241m.\u001b[39mget_loc(key)\n\u001b[0;32m   4103\u001b[0m \u001b[38;5;28;01mif\u001b[39;00m is_integer(indexer):\n\u001b[0;32m   4104\u001b[0m     indexer \u001b[38;5;241m=\u001b[39m [indexer]\n",
      "File \u001b[1;32mc:\\Users\\XeNoJ\\anaconda3\\Lib\\site-packages\\pandas\\core\\indexes\\base.py:3812\u001b[0m, in \u001b[0;36mIndex.get_loc\u001b[1;34m(self, key)\u001b[0m\n\u001b[0;32m   3807\u001b[0m     \u001b[38;5;28;01mif\u001b[39;00m \u001b[38;5;28misinstance\u001b[39m(casted_key, \u001b[38;5;28mslice\u001b[39m) \u001b[38;5;129;01mor\u001b[39;00m (\n\u001b[0;32m   3808\u001b[0m         \u001b[38;5;28misinstance\u001b[39m(casted_key, abc\u001b[38;5;241m.\u001b[39mIterable)\n\u001b[0;32m   3809\u001b[0m         \u001b[38;5;129;01mand\u001b[39;00m \u001b[38;5;28many\u001b[39m(\u001b[38;5;28misinstance\u001b[39m(x, \u001b[38;5;28mslice\u001b[39m) \u001b[38;5;28;01mfor\u001b[39;00m x \u001b[38;5;129;01min\u001b[39;00m casted_key)\n\u001b[0;32m   3810\u001b[0m     ):\n\u001b[0;32m   3811\u001b[0m         \u001b[38;5;28;01mraise\u001b[39;00m InvalidIndexError(key)\n\u001b[1;32m-> 3812\u001b[0m     \u001b[38;5;28;01mraise\u001b[39;00m \u001b[38;5;167;01mKeyError\u001b[39;00m(key) \u001b[38;5;28;01mfrom\u001b[39;00m \u001b[38;5;21;01merr\u001b[39;00m\n\u001b[0;32m   3813\u001b[0m \u001b[38;5;28;01mexcept\u001b[39;00m \u001b[38;5;167;01mTypeError\u001b[39;00m:\n\u001b[0;32m   3814\u001b[0m     \u001b[38;5;66;03m# If we have a listlike key, _check_indexing_error will raise\u001b[39;00m\n\u001b[0;32m   3815\u001b[0m     \u001b[38;5;66;03m#  InvalidIndexError. Otherwise we fall through and re-raise\u001b[39;00m\n\u001b[0;32m   3816\u001b[0m     \u001b[38;5;66;03m#  the TypeError.\u001b[39;00m\n\u001b[0;32m   3817\u001b[0m     \u001b[38;5;28mself\u001b[39m\u001b[38;5;241m.\u001b[39m_check_indexing_error(key)\n",
      "\u001b[1;31mKeyError\u001b[0m: 'imaging_type'"
     ]
    }
   ],
   "source": [
    "# SPECT/CT PPV Analysis\n",
    "\n",
    "# Filter for SPECT/CT scans\n",
    "spect_ct_data = data[data['imaging_type'] == 'SPECT/CT']  # adjust column name as per your data\n",
    "\n",
    "# Count matches\n",
    "true_positives = len(spect_ct_data[spect_ct_data['match_type'].isin(['Exact', 'Side', 'Partial'])])\n",
    "total_localized = len(spect_ct_data[spect_ct_data['localization_status'] == 'Localized'])  # adjust as needed\n",
    "\n",
    "# Calculate PPV\n",
    "spect_ct_ppv = (true_positives / total_localized) * 100 if total_localized > 0 else 0\n",
    "\n",
    "# Create summary\n",
    "print(f\"SPECT/CT Analysis:\")\n",
    "print(f\"Total Localized Scans: {total_localized}\")\n",
    "print(f\"True Positives: {true_positives}\")\n",
    "print(f\"PPV: {spect_ct_ppv:.2f}%\")\n",
    "\n",
    "# Visualization\n",
    "plt.figure(figsize=(8, 6))\n",
    "plt.bar(['True Positives', 'False Positives'], \n",
    "        [true_positives, total_localized - true_positives])\n",
    "plt.title('SPECT/CT PPV Breakdown')\n",
    "plt.ylabel('Number of Cases')\n",
    "plt.show()\n"
   ]
  },
  {
   "cell_type": "raw",
   "id": "49fc3bee",
   "metadata": {},
   "source": []
  },
  {
   "cell_type": "markdown",
   "id": "607c503e",
   "metadata": {
    "vscode": {
     "languageId": "raw"
    }
   },
   "source": [
    "## 2. SPECT/CT + Sestamibi Concordance Analysis\n",
    "\n",
    "Analysis Steps:\n",
    "1. Find cases where both SPECT/CT and Sestamibi tests were performed\n",
    "2. Identify concordant results (when both tests point to the same location)\n",
    "3. Calculate PPV for these concordant cases to see if agreement improves accuracy\n",
    "4. Create visualization comparing concordant vs. single-modality results\n"
   ]
  },
  {
   "cell_type": "code",
   "execution_count": null,
   "id": "367fb823",
   "metadata": {},
   "outputs": [],
   "source": [
    "# SPECT/CT + Sestamibi Concordance PPV Analysis\n",
    "\n",
    "# Find cases where both tests were done\n",
    "concordant_cases = data[\n",
    "    (data['has_spect_ct'] == True) & \n",
    "    (data['has_sestamibi'] == True)  # adjust column names\n",
    "]\n",
    "\n",
    "# Find cases where they agree\n",
    "concordant_positive = concordant_cases[\n",
    "    (concordant_cases['spect_ct_location'] == concordant_cases['sestamibi_location']) &\n",
    "    (concordant_cases['localization_status'] == 'Localized')\n",
    "]\n",
    "\n",
    "# Calculate PPV for concordant cases\n",
    "true_positives = len(concordant_positive[concordant_positive['match_type'].isin(['Exact', 'Side', 'Partial'])])\n",
    "total_concordant = len(concordant_positive)\n",
    "\n",
    "concordant_ppv = (true_positives / total_concordant) * 100 if total_concordant > 0 else 0\n"
   ]
  },
  {
   "cell_type": "markdown",
   "id": "ca3162c8",
   "metadata": {
    "vscode": {
     "languageId": "raw"
    }
   },
   "source": [
    "## 3. Sestamibi Analysis\n",
    "\n",
    "Analysis Steps:\n",
    "1. Isolate Sestamibi scan results from our dataset\n",
    "2. Count true positives (confirmed parathyroid tissue) and false positives (other tissue types)\n",
    "3. Calculate PPV to determine how often positive Sestamibi findings are correct\n",
    "4. Create visualization of Sestamibi performance\n"
   ]
  },
  {
   "cell_type": "code",
   "execution_count": null,
   "id": "0a9274ca",
   "metadata": {},
   "outputs": [],
   "source": [
    "# Sestamibi PPV Analysis\n",
    "\n",
    "# Same structure but filter for Sestamibi\n",
    "sestamibi_data = data[data['imaging_type'] == 'Sestamibi']  # adjust column name\n",
    "\n",
    "# Count matches\n",
    "true_positives = len(sestamibi_data[sestamibi_data['match_type'].isin(['Exact', 'Side', 'Partial'])])\n",
    "total_localized = len(sestamibi_data[sestamibi_data['localization_status'] == 'Localized'])\n",
    "\n",
    "# Calculate PPV\n",
    "sestamibi_ppv = (true_positives / total_localized) * 100 if total_localized > 0 else 0\n",
    "\n",
    "# Print results and create similar visualization\n"
   ]
  },
  {
   "cell_type": "markdown",
   "id": "97b7f4ed",
   "metadata": {
    "vscode": {
     "languageId": "raw"
    }
   },
   "source": [
    "## 4. 4D CT Analysis\n",
    "\n",
    "Analysis Steps:\n",
    "1. Extract all 4D CT results from our dataset\n",
    "2. Identify true positives (actual parathyroid glands) and false positives (other tissues)\n",
    "3. Calculate PPV to assess the reliability of positive 4D CT findings\n",
    "4. Create visualization showing 4D CT performance metrics\n"
   ]
  },
  {
   "cell_type": "code",
   "execution_count": null,
   "id": "b010d66f",
   "metadata": {},
   "outputs": [],
   "source": [
    "# 4D CT PPV Analysis\n",
    "\n",
    "# Filter for 4D CT\n",
    "ct_data = data[data['imaging_type'] == '4D CT']  # adjust column name\n",
    "\n",
    "# Same counting and calculation as above\n"
   ]
  },
  {
   "cell_type": "markdown",
   "id": "8b270571",
   "metadata": {
    "vscode": {
     "languageId": "raw"
    }
   },
   "source": [
    "## 5. Combined Analysis of All Modalities\n",
    "\n",
    "Analysis Steps:\n",
    "1. Collect PPV results from all imaging methods (SPECT/CT, Sestamibi, 4D CT, and concordant findings)\n",
    "2. Create a comparison table showing PPV, sample sizes, and confidence intervals\n",
    "3. Make a bar chart to visually compare PPVs across methods\n",
    "4. Perform statistical tests to see if some methods are significantly better than others\n",
    "5. Write a summary of key findings and potential clinical implications\n"
   ]
  },
  {
   "cell_type": "code",
   "execution_count": null,
   "id": "524d9653",
   "metadata": {},
   "outputs": [],
   "source": [
    "# Create comparison dataframe\n",
    "ppv_comparison = pd.DataFrame({\n",
    "    'Imaging Method': ['SPECT/CT', 'Sestamibi', '4D CT', 'Concordant'],\n",
    "    'PPV': [spect_ct_ppv, sestamibi_ppv, ct_ppv, concordant_ppv],\n",
    "    'Total Cases': [spect_ct_total, sestamibi_total, ct_total, concordant_total],\n",
    "    'True Positives': [spect_ct_true_pos, sestamibi_true_pos, ct_true_pos, concordant_true_pos]\n",
    "})\n",
    "\n",
    "# Create comparison visualization\n",
    "plt.figure(figsize=(10, 6))\n",
    "plt.bar(ppv_comparison['Imaging Method'], ppv_comparison['PPV'])\n",
    "plt.title('PPV Comparison Across Imaging Methods')\n",
    "plt.ylabel('PPV (%)')\n",
    "plt.xticks(rotation=45)\n",
    "plt.show()\n",
    "\n",
    "# Statistical testing\n",
    "# You might want to use chi-square test to compare proportions\n",
    "from scipy.stats import chi2_contingency\n",
    "# Add statistical testing code here"
   ]
  }
 ],
 "metadata": {
  "kernelspec": {
   "display_name": "base",
   "language": "python",
   "name": "python3"
  },
  "language_info": {
   "codemirror_mode": {
    "name": "ipython",
    "version": 3
   },
   "file_extension": ".py",
   "mimetype": "text/x-python",
   "name": "python",
   "nbconvert_exporter": "python",
   "pygments_lexer": "ipython3",
   "version": "3.12.7"
  }
 },
 "nbformat": 4,
 "nbformat_minor": 5
}
