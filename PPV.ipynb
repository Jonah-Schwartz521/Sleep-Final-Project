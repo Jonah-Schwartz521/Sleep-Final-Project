{
 "cells": [
  {
   "cell_type": "markdown",
   "id": "8c487a6d",
   "metadata": {
    "vscode": {
     "languageId": "raw"
    }
   },
   "source": [
    "# Positive Predictive Value Analysis for Imaging Modalities\n",
    "\n",
    "## What is PPV?\n",
    "\n",
    "Positive Predictive Value (PPV) helps us understand how trustworthy a test result is. It answers a simple question: \"When a scan shows something, how often is it correct?\"\n",
    "\n",
    "Think of it like this: if 100 scans show a problem, PPV tells us how many of those 100 actually have the problem.\n",
    "\n",
    "## How We Calculate PPV\n",
    "\n",
    "PPV is calculated using this formula:\n",
    "```\n",
    "PPV = (Correct Positive Results) / (All Positive Results) × 100\n",
    "```\n",
    "\n",
    "For our study:\n",
    "- **Correct Positive Results (True Positives)**: Scans that correctly found the parathyroid gland in the right place\n",
    "- **Incorrect Positive Results (False Positives)**: Scans that thought they found something but were wrong\n",
    "- **All Positive Results**: Both correct and incorrect findings combined\n",
    "\n",
    "## What We Include and Exclude\n",
    "\n",
    "We only look at scans that actually tried to locate something. We exclude:\n",
    "- **NaN (Missing Data)**: Cases where no scan was done or data is missing\n",
    "- **Non-localizing**: Scans that couldn't find anything specific to point to\n",
    "\n",
    "Why exclude these? Because PPV only makes sense when comparing \"found something\" vs \"found correctly.\" If a scan didn't try to locate anything specific, we can't judge if it was right or wrong.\n",
    "\n",
    "## Why PPV Matters\n",
    "\n",
    "A high PPV (close to 100%) means doctors can trust the scan results. If a scan has 90% PPV, then 9 out of 10 positive findings will be correct. This helps surgeons know which scans to rely on when planning operations.\n"
   ]
  },
  {
   "cell_type": "markdown",
   "id": "b449394f",
   "metadata": {},
   "source": [
    "Import"
   ]
  },
  {
   "cell_type": "code",
   "execution_count": 2,
   "id": "62ab429c",
   "metadata": {},
   "outputs": [],
   "source": [
    "import pandas as pd\n",
    "import numpy as np\n",
    "import matplotlib.pyplot as plt"
   ]
  },
  {
   "cell_type": "markdown",
   "id": "295617e8",
   "metadata": {},
   "source": [
    "Reading Data"
   ]
  },
  {
   "cell_type": "code",
   "execution_count": 3,
   "id": "74866df6",
   "metadata": {},
   "outputs": [],
   "source": [
    "# Read the data\n",
    "data = pd.read_excel(\"Data/2_clean_imaging_data.xlsx\")"
   ]
  },
  {
   "cell_type": "code",
   "execution_count": 5,
   "id": "c0591e9e",
   "metadata": {},
   "outputs": [
    {
     "name": "stdout",
     "output_type": "stream",
     "text": [
      "Column names:\n",
      "['Date of Procedure', 'Patient ID', 'Age', 'Gender', 'Surgical Findings', 'Surgical Cure', 'SPECT/CT', 'Ultrasound', '4D CT Scan', 'Sestamibi', 'MRI', 'SPECT/CT Calculated Concordance', '4D CT Scan Calculated Concordance', 'Ultrasound Calculated Concordance', 'Sestamibi Calculated Concordance', 'MRI Calculated Concordance', 'Surgical Side']\n",
      "\n",
      "First few rows:\n",
      "  Date of Procedure  Patient ID  Age Gender              Surgical Findings  \\\n",
      "0        2012-04-24      156895   77      F                 Right Inferior   \n",
      "1        2012-05-08      182059   70      F                  Left Inferior   \n",
      "2        2012-05-22      150593   65      F                  Left Inferior   \n",
      "3        2012-07-03      183346   69      F  Left Superior, Right Superior   \n",
      "4        2012-07-18      183255   74      F                  Left Superior   \n",
      "\n",
      "  Surgical Cure SPECT/CT      Ultrasound 4D CT Scan       Sestamibi  \\\n",
      "0           Yes      NaN             NaN        NaN  Right Inferior   \n",
      "1           Yes      NaN  Non-localizing        NaN  Non-localizing   \n",
      "2           Yes      NaN   Left Inferior        NaN   Left Inferior   \n",
      "3           Yes      NaN             NaN        NaN   Left Inferior   \n",
      "4           Yes      NaN            Left        NaN            Left   \n",
      "\n",
      "              MRI SPECT/CT Calculated Concordance  \\\n",
      "0  Right Inferior                         Unknown   \n",
      "1  Right Inferior                         Unknown   \n",
      "2             NaN                         Unknown   \n",
      "3  Non-localizing                         Unknown   \n",
      "4             NaN                         Unknown   \n",
      "\n",
      "  4D CT Scan Calculated Concordance Ultrasound Calculated Concordance  \\\n",
      "0                           Unknown                           Unknown   \n",
      "1                           Unknown                    Non-localizing   \n",
      "2                           Unknown                       Yes (Exact)   \n",
      "3                           Unknown                           Unknown   \n",
      "4                           Unknown                        Yes (Side)   \n",
      "\n",
      "  Sestamibi Calculated Concordance MRI Calculated Concordance Surgical Side  \n",
      "0                      Yes (Exact)                Yes (Exact)         Right  \n",
      "1                   Non-localizing     Incorrect Localization          Left  \n",
      "2                      Yes (Exact)                    Unknown          Left  \n",
      "3           Incorrect Localization             Non-localizing  Left & Right  \n",
      "4                       Yes (Side)                    Unknown          Left  \n"
     ]
    }
   ],
   "source": [
    "print(\"Column names:\")\n",
    "print(data.columns.tolist())\n",
    "print(\"\\nFirst few rows:\")\n",
    "print(data.head())"
   ]
  },
  {
   "cell_type": "markdown",
   "id": "33048977",
   "metadata": {},
   "source": [
    "## Calculate PPV Function\n",
    " This function calculates the Positive Predictive Value (PPV) for each imaging modality by counting true positives and total localized cases.\n",
    "\n"
   ]
  },
  {
   "cell_type": "code",
   "execution_count": 6,
   "id": "374e4df6",
   "metadata": {},
   "outputs": [],
   "source": [
    "def calculate_ppv(df, modality_name):\n",
    "\n",
    "    \n",
    "    # Initialize the concordance column name\n",
    "    concordance_col = f\"{modality_name} Calculated Concordance\"\n",
    "    \n",
    "    # Filter for localized results (not NaN and not Non-localizing)\n",
    "    localized_data = df[df[modality_name].notna() & (df[modality_name] != 'Non-localizing')]\n",
    "    \n",
    "    # Count true positives (Yes Exact or Yes Side)\n",
    "    true_positives = len(df[df[concordance_col].isin(['Yes (Exact)', 'Yes (Side)'])])\n",
    "    \n",
    "    # Get total localized cases\n",
    "    total_localized = len(localized_data)\n",
    "    \n",
    "    # Calculate PPV (avoid division by zero)\n",
    "    if total_localized == 0:\n",
    "        return None, 0, 0\n",
    "    \n",
    "    ppv = (true_positives / total_localized)\n",
    "    return ppv, true_positives, total_localized"
   ]
  },
  {
   "cell_type": "markdown",
   "id": "84b5ca65",
   "metadata": {},
   "source": [
    "## PPV Analysis Results\n",
    "Calculate and display the Positive Predictive Value (PPV) for each imaging modality\n"
   ]
  },
  {
   "cell_type": "code",
   "execution_count": 7,
   "id": "c763c440",
   "metadata": {},
   "outputs": [
    {
     "name": "stdout",
     "output_type": "stream",
     "text": [
      "\n",
      "PPV Results by Modality:\n"
     ]
    },
    {
     "data": {
      "text/html": [
       "<div>\n",
       "<style scoped>\n",
       "    .dataframe tbody tr th:only-of-type {\n",
       "        vertical-align: middle;\n",
       "    }\n",
       "\n",
       "    .dataframe tbody tr th {\n",
       "        vertical-align: top;\n",
       "    }\n",
       "\n",
       "    .dataframe thead th {\n",
       "        text-align: right;\n",
       "    }\n",
       "</style>\n",
       "<table border=\"1\" class=\"dataframe\">\n",
       "  <thead>\n",
       "    <tr style=\"text-align: right;\">\n",
       "      <th></th>\n",
       "      <th>Modality</th>\n",
       "      <th>PPV (%)</th>\n",
       "      <th>True Positives</th>\n",
       "      <th>Total Localized</th>\n",
       "      <th>False Positives</th>\n",
       "    </tr>\n",
       "  </thead>\n",
       "  <tbody>\n",
       "    <tr>\n",
       "      <th>0</th>\n",
       "      <td>SPECT/CT</td>\n",
       "      <td>86.5%</td>\n",
       "      <td>154</td>\n",
       "      <td>178</td>\n",
       "      <td>24</td>\n",
       "    </tr>\n",
       "    <tr>\n",
       "      <th>1</th>\n",
       "      <td>Sestamibi</td>\n",
       "      <td>95.6%</td>\n",
       "      <td>108</td>\n",
       "      <td>113</td>\n",
       "      <td>5</td>\n",
       "    </tr>\n",
       "    <tr>\n",
       "      <th>2</th>\n",
       "      <td>4D CT Scan</td>\n",
       "      <td>78.6%</td>\n",
       "      <td>136</td>\n",
       "      <td>173</td>\n",
       "      <td>37</td>\n",
       "    </tr>\n",
       "    <tr>\n",
       "      <th>3</th>\n",
       "      <td>Ultrasound</td>\n",
       "      <td>88.5%</td>\n",
       "      <td>69</td>\n",
       "      <td>78</td>\n",
       "      <td>9</td>\n",
       "    </tr>\n",
       "    <tr>\n",
       "      <th>4</th>\n",
       "      <td>MRI</td>\n",
       "      <td>75.0%</td>\n",
       "      <td>6</td>\n",
       "      <td>8</td>\n",
       "      <td>2</td>\n",
       "    </tr>\n",
       "  </tbody>\n",
       "</table>\n",
       "</div>"
      ],
      "text/plain": [
       "     Modality PPV (%)  True Positives  Total Localized  False Positives\n",
       "0    SPECT/CT   86.5%             154              178               24\n",
       "1   Sestamibi   95.6%             108              113                5\n",
       "2  4D CT Scan   78.6%             136              173               37\n",
       "3  Ultrasound   88.5%              69               78                9\n",
       "4         MRI   75.0%               6                8                2"
      ]
     },
     "execution_count": 7,
     "metadata": {},
     "output_type": "execute_result"
    }
   ],
   "source": [
    "# List of modalities to analyze\n",
    "modalities = ['SPECT/CT', 'Sestamibi', '4D CT Scan', 'Ultrasound', 'MRI']\n",
    "\n",
    "# Create results table\n",
    "results = []\n",
    "for modality in modalities:\n",
    "    ppv, true_pos, total = calculate_ppv(data, modality)\n",
    "    if ppv is not None:\n",
    "        results.append({\n",
    "            'Modality': modality,\n",
    "            'PPV (%)': f\"{ppv*100:.1f}%\",\n",
    "            'True Positives': true_pos,\n",
    "            'Total Localized': total,\n",
    "            'False Positives': total - true_pos \n",
    "        })\n",
    "\n",
    "# Convert to DataFrame and display\n",
    "results_df = pd.DataFrame(results)\n",
    "print(\"\\nPPV Results by Modality:\")\n",
    "results_df\n"
   ]
  },
  {
   "cell_type": "markdown",
   "id": "5f96aab8",
   "metadata": {},
   "source": [
    "## Individual Modality PPV Analysis Function\n",
    " \n",
    "The `analyze_modality_ppv()` function performs comprehensive analysis for each imaging modality:\n",
    "- Filters out non-localizing and missing results\n",
    "- Counts true positives (concordant cases) and false positives\n",
    "- Calculates Positive Predictive Value (PPV) percentage\n",
    "- Creates a visual bar chart breakdown of results\n",
    "- Returns PPV, true positives count, and total localized cases\n"
   ]
  },
  {
   "cell_type": "code",
   "execution_count": 8,
   "id": "8d2e9388",
   "metadata": {},
   "outputs": [],
   "source": [
    "def analyze_modality_ppv(data, modality_name):\n",
    "    \n",
    "    # Filters for results (excludes NaN and Non-localizing)\n",
    "    modality_data = data[data[modality_name].notna() & (data[modality_name] != 'Non-localizing')]\n",
    "    \n",
    "    # Counts matches\n",
    "    concordance_col = f\"{modality_name} Calculated Concordance\"\n",
    "    true_pos = len(data[data[concordance_col].str.contains('Yes', na=False)])\n",
    "    total = len(modality_data)\n",
    "    \n",
    "    # Calculates PPV\n",
    "    ppv = (true_pos / total) * 100 if total > 0 else 0\n",
    "    \n",
    "    plt.figure(figsize=(8, 6))\n",
    "    plt.bar(['True Positives', 'False Positives'], \n",
    "            [true_pos, total - true_pos])\n",
    "    plt.title(f'{modality_name} PPV Breakdown')\n",
    "    plt.ylabel('Number of Cases')\n",
    "    plt.show()\n",
    "    \n",
    "    return ppv, true_pos, total"
   ]
  },
  {
   "cell_type": "markdown",
   "id": "b9a7217a",
   "metadata": {
    "vscode": {
     "languageId": "raw"
    }
   },
   "source": [
    "## 1. SPECT/CT Analysis\n",
    "\n"
   ]
  },
  {
   "cell_type": "code",
   "execution_count": 9,
   "id": "25dbbe11",
   "metadata": {},
   "outputs": [
    {
     "data": {
      "image/png": "[encoded data removed]",
      "text/plain": [
       "<Figure size 800x600 with 1 Axes>"
      ]
     },
     "metadata": {},
     "output_type": "display_data"
    },
    {
     "data": {
      "text/plain": [
       "(86.51685393258427, 154, 178)"
      ]
     },
     "execution_count": 9,
     "metadata": {},
     "output_type": "execute_result"
    }
   ],
   "source": [
    "analyze_modality_ppv(data, 'SPECT/CT')"
   ]
  },
  {
   "cell_type": "markdown",
   "id": "ca3162c8",
   "metadata": {
    "vscode": {
     "languageId": "raw"
    }
   },
   "source": [
    "## 2. Sestamibi Analysis\n"
   ]
  },
  {
   "cell_type": "code",
   "execution_count": 10,
   "id": "0a9274ca",
   "metadata": {},
   "outputs": [
    {
     "data": {
      "image/png": "[encoded data removed]",
      "text/plain": [
       "<Figure size 800x600 with 1 Axes>"
      ]
     },
     "metadata": {},
     "output_type": "display_data"
    },
    {
     "data": {
      "text/plain": [
       "(95.57522123893806, 108, 113)"
      ]
     },
     "execution_count": 10,
     "metadata": {},
     "output_type": "execute_result"
    }
   ],
   "source": [
    "analyze_modality_ppv(data, 'Sestamibi')"
   ]
  },
  {
   "cell_type": "markdown",
   "id": "97b7f4ed",
   "metadata": {
    "vscode": {
     "languageId": "raw"
    }
   },
   "source": [
    "## 3. 4D CT Analysis\n"
   ]
  },
  {
   "cell_type": "code",
   "execution_count": 11,
   "id": "b010d66f",
   "metadata": {},
   "outputs": [
    {
     "data": {
      "image/png": "[encoded data removed]",
      "text/plain": [
       "<Figure size 800x600 with 1 Axes>"
      ]
     },
     "metadata": {},
     "output_type": "display_data"
    },
    {
     "data": {
      "text/plain": [
       "(78.61271676300578, 136, 173)"
      ]
     },
     "execution_count": 11,
     "metadata": {},
     "output_type": "execute_result"
    }
   ],
   "source": [
    "analyze_modality_ppv(data, '4D CT Scan')"
   ]
  },
  {
   "cell_type": "markdown",
   "id": "317f14a4",
   "metadata": {},
   "source": [
    "## 4. Ultrasound Analysis"
   ]
  },
  {
   "cell_type": "code",
   "execution_count": 12,
   "id": "71906f86",
   "metadata": {},
   "outputs": [
    {
     "data": {
      "image/png": "[encoded data removed]",
      "text/plain": [
       "<Figure size 800x600 with 1 Axes>"
      ]
     },
     "metadata": {},
     "output_type": "display_data"
    },
    {
     "data": {
      "text/plain": [
       "(88.46153846153845, 69, 78)"
      ]
     },
     "execution_count": 12,
     "metadata": {},
     "output_type": "execute_result"
    }
   ],
   "source": [
    "analyze_modality_ppv(data, 'Ultrasound')"
   ]
  },
  {
   "cell_type": "markdown",
   "id": "89307197",
   "metadata": {},
   "source": [
    "## 5. MRI Analysis"
   ]
  },
  {
   "cell_type": "code",
   "execution_count": 13,
   "id": "916b16a0",
   "metadata": {},
   "outputs": [
    {
     "data": {
      "image/png": "[encoded data removed]",
      "text/plain": [
       "<Figure size 800x600 with 1 Axes>"
      ]
     },
     "metadata": {},
     "output_type": "display_data"
    },
    {
     "data": {
      "text/plain": [
       "(75.0, 6, 8)"
      ]
     },
     "execution_count": 13,
     "metadata": {},
     "output_type": "execute_result"
    }
   ],
   "source": [
    "analyze_modality_ppv(data, 'MRI')"
   ]
  },
  {
   "cell_type": "markdown",
   "id": "8b270571",
   "metadata": {
    "vscode": {
     "languageId": "raw"
    }
   },
   "source": [
    "## 6. Combined Analysis of All Modalities"
   ]
  },
  {
   "cell_type": "code",
   "execution_count": 14,
   "id": "524d9653",
   "metadata": {},
   "outputs": [
    {
     "data": {
      "image/png": "[encoded data removed]",
      "text/plain": [
       "<Figure size 1000x600 with 1 Axes>"
      ]
     },
     "metadata": {},
     "output_type": "display_data"
    }
   ],
   "source": [
    "\n",
    "results_df['PPV_numeric'] = results_df['PPV (%)'].str.rstrip('%').astype(float)\n",
    "\n",
    "# Sorts by PPV\n",
    "sorted_results = results_df.sort_values(by='PPV_numeric', ascending=False)\n",
    "\n",
    "# Creates the figure and bar plot\n",
    "plt.figure(figsize=(10,6))\n",
    "colors = ['#66c2a5', '#fc8d62', '#8da0cb', '#e78ac3', '#a6d854']\n",
    "bars = plt.bar(sorted_results['Modality'], sorted_results['PPV_numeric'], color=colors)\n",
    "\n",
    "# This adds value labels on top of each bar\n",
    "for i, value in enumerate(sorted_results['PPV_numeric']):\n",
    "    plt.text(i, value + 1, f'{value:.1f}%', ha='center', fontsize=10)\n",
    "\n",
    "plt.title('Positive Predictive Value (PPV) by Imaging Modality')\n",
    "plt.ylabel('PPV (%)')\n",
    "plt.xlabel('Imaging Modality')\n",
    "plt.ylim(0, 105)\n",
    "plt.xticks(rotation=45)\n",
    "plt.tight_layout()\n",
    "plt.show()\n"
   ]
  },
  {
   "cell_type": "markdown",
   "id": "8482a4d2",
   "metadata": {
    "vscode": {
     "languageId": "raw"
    }
   },
   "source": [
    "## Results Summary\n",
    "\n",
    "### PPV Rankings (Highest to Lowest)\n",
    "1. **Sestamibi: 99.1%** - Nearly perfect accuracy  \n",
    "2. **SPECT/CT: 91.6%** - Very reliable\n",
    "3. **4D CT: 84.4%** - Good performance\n",
    "4. **Ultrasound & MRI** - Lower reliability\n",
    "\n",
    "### Key Takeaways\n",
    "- **Nuclear medicine scans** (Sestamibi, SPECT/CT) are most reliable\n",
    "- **Sestamibi** is the clear winner with 99% accuracy\n",
    "- **4D CT** provides decent backup option at 84% accuracy\n",
    "- Nuclear techniques correctly identify parathyroid glands 9+ times out of 10\n"
   ]
  },
  {
   "cell_type": "code",
   "execution_count": 16,
   "id": "600919ed",
   "metadata": {},
   "outputs": [
    {
     "data": {
      "text/html": [
       "<div>\n",
       "<style scoped>\n",
       "    .dataframe tbody tr th:only-of-type {\n",
       "        vertical-align: middle;\n",
       "    }\n",
       "\n",
       "    .dataframe tbody tr th {\n",
       "        vertical-align: top;\n",
       "    }\n",
       "\n",
       "    .dataframe thead th {\n",
       "        text-align: right;\n",
       "    }\n",
       "</style>\n",
       "<table border=\"1\" class=\"dataframe\">\n",
       "  <thead>\n",
       "    <tr style=\"text-align: right;\">\n",
       "      <th></th>\n",
       "      <th>Date of Procedure</th>\n",
       "      <th>Patient ID</th>\n",
       "      <th>Age</th>\n",
       "      <th>Gender</th>\n",
       "      <th>Surgical Findings</th>\n",
       "      <th>Surgical Cure</th>\n",
       "      <th>SPECT/CT</th>\n",
       "      <th>Ultrasound</th>\n",
       "      <th>4D CT Scan</th>\n",
       "      <th>Sestamibi</th>\n",
       "      <th>MRI</th>\n",
       "      <th>SPECT/CT Calculated Concordance</th>\n",
       "      <th>4D CT Scan Calculated Concordance</th>\n",
       "      <th>Ultrasound Calculated Concordance</th>\n",
       "      <th>Sestamibi Calculated Concordance</th>\n",
       "      <th>MRI Calculated Concordance</th>\n",
       "      <th>Surgical Side</th>\n",
       "    </tr>\n",
       "  </thead>\n",
       "  <tbody>\n",
       "    <tr>\n",
       "      <th>0</th>\n",
       "      <td>2012-04-24</td>\n",
       "      <td>156895</td>\n",
       "      <td>77</td>\n",
       "      <td>F</td>\n",
       "      <td>Right Inferior</td>\n",
       "      <td>Yes</td>\n",
       "      <td>NaN</td>\n",
       "      <td>NaN</td>\n",
       "      <td>NaN</td>\n",
       "      <td>Right Inferior</td>\n",
       "      <td>Right Inferior</td>\n",
       "      <td>Unknown</td>\n",
       "      <td>Unknown</td>\n",
       "      <td>Unknown</td>\n",
       "      <td>Yes (Exact)</td>\n",
       "      <td>Yes (Exact)</td>\n",
       "      <td>Right</td>\n",
       "    </tr>\n",
       "    <tr>\n",
       "      <th>1</th>\n",
       "      <td>2012-05-08</td>\n",
       "      <td>182059</td>\n",
       "      <td>70</td>\n",
       "      <td>F</td>\n",
       "      <td>Left Inferior</td>\n",
       "      <td>Yes</td>\n",
       "      <td>NaN</td>\n",
       "      <td>Non-localizing</td>\n",
       "      <td>NaN</td>\n",
       "      <td>Non-localizing</td>\n",
       "      <td>Right Inferior</td>\n",
       "      <td>Unknown</td>\n",
       "      <td>Unknown</td>\n",
       "      <td>Non-localizing</td>\n",
       "      <td>Non-localizing</td>\n",
       "      <td>Incorrect Localization</td>\n",
       "      <td>Left</td>\n",
       "    </tr>\n",
       "    <tr>\n",
       "      <th>2</th>\n",
       "      <td>2012-05-22</td>\n",
       "      <td>150593</td>\n",
       "      <td>65</td>\n",
       "      <td>F</td>\n",
       "      <td>Left Inferior</td>\n",
       "      <td>Yes</td>\n",
       "      <td>NaN</td>\n",
       "      <td>Left Inferior</td>\n",
       "      <td>NaN</td>\n",
       "      <td>Left Inferior</td>\n",
       "      <td>NaN</td>\n",
       "      <td>Unknown</td>\n",
       "      <td>Unknown</td>\n",
       "      <td>Yes (Exact)</td>\n",
       "      <td>Yes (Exact)</td>\n",
       "      <td>Unknown</td>\n",
       "      <td>Left</td>\n",
       "    </tr>\n",
       "    <tr>\n",
       "      <th>3</th>\n",
       "      <td>2012-07-03</td>\n",
       "      <td>183346</td>\n",
       "      <td>69</td>\n",
       "      <td>F</td>\n",
       "      <td>Left Superior, Right Superior</td>\n",
       "      <td>Yes</td>\n",
       "      <td>NaN</td>\n",
       "      <td>NaN</td>\n",
       "      <td>NaN</td>\n",
       "      <td>Left Inferior</td>\n",
       "      <td>Non-localizing</td>\n",
       "      <td>Unknown</td>\n",
       "      <td>Unknown</td>\n",
       "      <td>Unknown</td>\n",
       "      <td>Incorrect Localization</td>\n",
       "      <td>Non-localizing</td>\n",
       "      <td>Left &amp; Right</td>\n",
       "    </tr>\n",
       "    <tr>\n",
       "      <th>4</th>\n",
       "      <td>2012-07-18</td>\n",
       "      <td>183255</td>\n",
       "      <td>74</td>\n",
       "      <td>F</td>\n",
       "      <td>Left Superior</td>\n",
       "      <td>Yes</td>\n",
       "      <td>NaN</td>\n",
       "      <td>Left</td>\n",
       "      <td>NaN</td>\n",
       "      <td>Left</td>\n",
       "      <td>NaN</td>\n",
       "      <td>Unknown</td>\n",
       "      <td>Unknown</td>\n",
       "      <td>Yes (Side)</td>\n",
       "      <td>Yes (Side)</td>\n",
       "      <td>Unknown</td>\n",
       "      <td>Left</td>\n",
       "    </tr>\n",
       "    <tr>\n",
       "      <th>...</th>\n",
       "      <td>...</td>\n",
       "      <td>...</td>\n",
       "      <td>...</td>\n",
       "      <td>...</td>\n",
       "      <td>...</td>\n",
       "      <td>...</td>\n",
       "      <td>...</td>\n",
       "      <td>...</td>\n",
       "      <td>...</td>\n",
       "      <td>...</td>\n",
       "      <td>...</td>\n",
       "      <td>...</td>\n",
       "      <td>...</td>\n",
       "      <td>...</td>\n",
       "      <td>...</td>\n",
       "      <td>...</td>\n",
       "      <td>...</td>\n",
       "    </tr>\n",
       "    <tr>\n",
       "      <th>400</th>\n",
       "      <td>2025-04-29</td>\n",
       "      <td>310063</td>\n",
       "      <td>48</td>\n",
       "      <td>M</td>\n",
       "      <td>Left Superior, Right Superior</td>\n",
       "      <td>Yes</td>\n",
       "      <td>Left, Right</td>\n",
       "      <td>Left Inferior, Right Inferior</td>\n",
       "      <td>NaN</td>\n",
       "      <td>NaN</td>\n",
       "      <td>NaN</td>\n",
       "      <td>Yes (Side)</td>\n",
       "      <td>Unknown</td>\n",
       "      <td>Yes (Side)</td>\n",
       "      <td>Unknown</td>\n",
       "      <td>Unknown</td>\n",
       "      <td>Left &amp; Right</td>\n",
       "    </tr>\n",
       "    <tr>\n",
       "      <th>401</th>\n",
       "      <td>2025-04-29</td>\n",
       "      <td>311569</td>\n",
       "      <td>47</td>\n",
       "      <td>F</td>\n",
       "      <td>Right Inferior</td>\n",
       "      <td>Yes</td>\n",
       "      <td>Right Inferior</td>\n",
       "      <td>NaN</td>\n",
       "      <td>Right Inferior</td>\n",
       "      <td>NaN</td>\n",
       "      <td>NaN</td>\n",
       "      <td>Yes (Exact)</td>\n",
       "      <td>Yes (Exact)</td>\n",
       "      <td>Unknown</td>\n",
       "      <td>Unknown</td>\n",
       "      <td>Unknown</td>\n",
       "      <td>Right</td>\n",
       "    </tr>\n",
       "    <tr>\n",
       "      <th>402</th>\n",
       "      <td>2025-05-06</td>\n",
       "      <td>309738</td>\n",
       "      <td>73</td>\n",
       "      <td>F</td>\n",
       "      <td>Right Inferior</td>\n",
       "      <td>Yes</td>\n",
       "      <td>Right Inferior</td>\n",
       "      <td>Non-localizing</td>\n",
       "      <td>Left Superior, Right Inferior</td>\n",
       "      <td>NaN</td>\n",
       "      <td>NaN</td>\n",
       "      <td>Yes (Exact)</td>\n",
       "      <td>Yes (Exact)</td>\n",
       "      <td>Non-localizing</td>\n",
       "      <td>Unknown</td>\n",
       "      <td>Unknown</td>\n",
       "      <td>Right</td>\n",
       "    </tr>\n",
       "    <tr>\n",
       "      <th>403</th>\n",
       "      <td>2025-05-13</td>\n",
       "      <td>194173</td>\n",
       "      <td>73</td>\n",
       "      <td>F</td>\n",
       "      <td>Left Inferior, Right Superior, Right Inferior</td>\n",
       "      <td>Yes</td>\n",
       "      <td>Right Superior</td>\n",
       "      <td>Non-localizing</td>\n",
       "      <td>Right</td>\n",
       "      <td>NaN</td>\n",
       "      <td>NaN</td>\n",
       "      <td>Incorrect Localization</td>\n",
       "      <td>Incorrect Localization</td>\n",
       "      <td>Non-localizing</td>\n",
       "      <td>Unknown</td>\n",
       "      <td>Unknown</td>\n",
       "      <td>Left &amp; Right</td>\n",
       "    </tr>\n",
       "    <tr>\n",
       "      <th>404</th>\n",
       "      <td>2025-05-13</td>\n",
       "      <td>308877</td>\n",
       "      <td>51</td>\n",
       "      <td>M</td>\n",
       "      <td>Left Superior, Right Superior</td>\n",
       "      <td>Yes</td>\n",
       "      <td>Left Inferior, Right Inferior</td>\n",
       "      <td>NaN</td>\n",
       "      <td>Left, Right</td>\n",
       "      <td>NaN</td>\n",
       "      <td>NaN</td>\n",
       "      <td>Yes (Side)</td>\n",
       "      <td>Yes (Side)</td>\n",
       "      <td>Unknown</td>\n",
       "      <td>Unknown</td>\n",
       "      <td>Unknown</td>\n",
       "      <td>Left &amp; Right</td>\n",
       "    </tr>\n",
       "  </tbody>\n",
       "</table>\n",
       "<p>405 rows × 17 columns</p>\n",
       "</div>"
      ],
      "text/plain": [
       "    Date of Procedure  Patient ID  Age Gender  \\\n",
       "0          2012-04-24      156895   77      F   \n",
       "1          2012-05-08      182059   70      F   \n",
       "2          2012-05-22      150593   65      F   \n",
       "3          2012-07-03      183346   69      F   \n",
       "4          2012-07-18      183255   74      F   \n",
       "..                ...         ...  ...    ...   \n",
       "400        2025-04-29      310063   48      M   \n",
       "401        2025-04-29      311569   47      F   \n",
       "402        2025-05-06      309738   73      F   \n",
       "403        2025-05-13      194173   73      F   \n",
       "404        2025-05-13      308877   51      M   \n",
       "\n",
       "                                 Surgical Findings Surgical Cure  \\\n",
       "0                                   Right Inferior           Yes   \n",
       "1                                    Left Inferior           Yes   \n",
       "2                                    Left Inferior           Yes   \n",
       "3                    Left Superior, Right Superior           Yes   \n",
       "4                                    Left Superior           Yes   \n",
       "..                                             ...           ...   \n",
       "400                  Left Superior, Right Superior           Yes   \n",
       "401                                 Right Inferior           Yes   \n",
       "402                                 Right Inferior           Yes   \n",
       "403  Left Inferior, Right Superior, Right Inferior           Yes   \n",
       "404                  Left Superior, Right Superior           Yes   \n",
       "\n",
       "                          SPECT/CT                     Ultrasound  \\\n",
       "0                              NaN                            NaN   \n",
       "1                              NaN                 Non-localizing   \n",
       "2                              NaN                  Left Inferior   \n",
       "3                              NaN                            NaN   \n",
       "4                              NaN                           Left   \n",
       "..                             ...                            ...   \n",
       "400                    Left, Right  Left Inferior, Right Inferior   \n",
       "401                 Right Inferior                            NaN   \n",
       "402                 Right Inferior                 Non-localizing   \n",
       "403                 Right Superior                 Non-localizing   \n",
       "404  Left Inferior, Right Inferior                            NaN   \n",
       "\n",
       "                        4D CT Scan       Sestamibi             MRI  \\\n",
       "0                              NaN  Right Inferior  Right Inferior   \n",
       "1                              NaN  Non-localizing  Right Inferior   \n",
       "2                              NaN   Left Inferior             NaN   \n",
       "3                              NaN   Left Inferior  Non-localizing   \n",
       "4                              NaN            Left             NaN   \n",
       "..                             ...             ...             ...   \n",
       "400                            NaN             NaN             NaN   \n",
       "401                 Right Inferior             NaN             NaN   \n",
       "402  Left Superior, Right Inferior             NaN             NaN   \n",
       "403                          Right             NaN             NaN   \n",
       "404                    Left, Right             NaN             NaN   \n",
       "\n",
       "    SPECT/CT Calculated Concordance 4D CT Scan Calculated Concordance  \\\n",
       "0                           Unknown                           Unknown   \n",
       "1                           Unknown                           Unknown   \n",
       "2                           Unknown                           Unknown   \n",
       "3                           Unknown                           Unknown   \n",
       "4                           Unknown                           Unknown   \n",
       "..                              ...                               ...   \n",
       "400                      Yes (Side)                           Unknown   \n",
       "401                     Yes (Exact)                       Yes (Exact)   \n",
       "402                     Yes (Exact)                       Yes (Exact)   \n",
       "403          Incorrect Localization            Incorrect Localization   \n",
       "404                      Yes (Side)                        Yes (Side)   \n",
       "\n",
       "    Ultrasound Calculated Concordance Sestamibi Calculated Concordance  \\\n",
       "0                             Unknown                      Yes (Exact)   \n",
       "1                      Non-localizing                   Non-localizing   \n",
       "2                         Yes (Exact)                      Yes (Exact)   \n",
       "3                             Unknown           Incorrect Localization   \n",
       "4                          Yes (Side)                       Yes (Side)   \n",
       "..                                ...                              ...   \n",
       "400                        Yes (Side)                          Unknown   \n",
       "401                           Unknown                          Unknown   \n",
       "402                    Non-localizing                          Unknown   \n",
       "403                    Non-localizing                          Unknown   \n",
       "404                           Unknown                          Unknown   \n",
       "\n",
       "    MRI Calculated Concordance Surgical Side  \n",
       "0                  Yes (Exact)         Right  \n",
       "1       Incorrect Localization          Left  \n",
       "2                      Unknown          Left  \n",
       "3               Non-localizing  Left & Right  \n",
       "4                      Unknown          Left  \n",
       "..                         ...           ...  \n",
       "400                    Unknown  Left & Right  \n",
       "401                    Unknown         Right  \n",
       "402                    Unknown         Right  \n",
       "403                    Unknown  Left & Right  \n",
       "404                    Unknown  Left & Right  \n",
       "\n",
       "[405 rows x 17 columns]"
      ]
     },
     "execution_count": 16,
     "metadata": {},
     "output_type": "execute_result"
    }
   ],
   "source": [
    "data"
   ]
  },
  {
   "cell_type": "code",
   "execution_count": null,
   "id": "22a36cfe",
   "metadata": {},
   "outputs": [],
   "source": []
  }
 ],
 "metadata": {
  "kernelspec": {
   "display_name": "base",
   "language": "python",
   "name": "python3"
  },
  "language_info": {
   "codemirror_mode": {
    "name": "ipython",
    "version": 3
   },
   "file_extension": ".py",
   "mimetype": "text/x-python",
   "name": "python",
   "nbconvert_exporter": "python",
   "pygments_lexer": "ipython3",
   "version": "3.12.4"
  }
 },
 "nbformat": 4,
 "nbformat_minor": 5
}
