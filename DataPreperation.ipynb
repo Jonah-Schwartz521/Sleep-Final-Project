{
 "cells": [
  {
   "cell_type": "markdown",
   "id": "4e838626",
   "metadata": {},
   "source": [
    "# Chapter 1 - Data Preparation : Pulling and Cleaning the Imaging Dataset\n",
    "\n",
    "## Summary\n",
    "\n",
    "This notebook is basically the first step of our project - getting the imaging data and cleaning it up so I can actually use it. I'm going to load up the dataset, take a look at what we're working with, and fix any messy stuff like missing data or weird formatting. Then I'll save a clean version that's ready to go.\n",
    "\n",
    "We're keeping all the charts and analysis for another notebook so this one doesn't get too messy and it stays focused on just prepping the data.\n"
   ]
  },
  {
   "cell_type": "markdown",
   "id": "769573cc",
   "metadata": {},
   "source": [
    "Pulling the Data\n",
    "---"
   ]
  },
  {
   "cell_type": "markdown",
   "id": "5dd1d142",
   "metadata": {},
   "source": [
    "Imports "
   ]
  },
  {
   "cell_type": "code",
   "execution_count": 16,
   "id": "1c7bdfb2",
   "metadata": {},
   "outputs": [],
   "source": [
    "import pandas as pd"
   ]
  },
  {
   "cell_type": "markdown",
   "id": "9f235043",
   "metadata": {},
   "source": [
    "<br><br>\n",
    "Reading in the Raw Data"
   ]
  },
  {
   "cell_type": "code",
   "execution_count": 17,
   "id": "c567fc6d",
   "metadata": {},
   "outputs": [
    {
     "name": "stdout",
     "output_type": "stream",
     "text": [
      "<class 'pandas.core.frame.DataFrame'>\n",
      "RangeIndex: 405 entries, 0 to 404\n",
      "Data columns (total 11 columns):\n",
      " #   Column             Non-Null Count  Dtype         \n",
      "---  ------             --------------  -----         \n",
      " 0   Date of Procedure  405 non-null    datetime64[ns]\n",
      " 1   Patient ID         405 non-null    int64         \n",
      " 2   Age                405 non-null    int64         \n",
      " 3   Gender             405 non-null    object        \n",
      " 4   Surgical Findings  405 non-null    object        \n",
      " 5   Surgical Cure      405 non-null    object        \n",
      " 6   SPECT/CT           230 non-null    object        \n",
      " 7   Ultrasound         145 non-null    object        \n",
      " 8   4D CT Scan         228 non-null    object        \n",
      " 9   Sestamibi          174 non-null    object        \n",
      " 10  MRI                15 non-null     object        \n",
      "dtypes: datetime64[ns](1), int64(2), object(8)\n",
      "memory usage: 34.9+ KB\n"
     ]
    },
    {
     "data": {
      "text/html": [
       "<div>\n",
       "<style scoped>\n",
       "    .dataframe tbody tr th:only-of-type {\n",
       "        vertical-align: middle;\n",
       "    }\n",
       "\n",
       "    .dataframe tbody tr th {\n",
       "        vertical-align: top;\n",
       "    }\n",
       "\n",
       "    .dataframe thead th {\n",
       "        text-align: right;\n",
       "    }\n",
       "</style>\n",
       "<table border=\"1\" class=\"dataframe\">\n",
       "  <thead>\n",
       "    <tr style=\"text-align: right;\">\n",
       "      <th></th>\n",
       "      <th>Date of Procedure</th>\n",
       "      <th>Patient ID</th>\n",
       "      <th>Age</th>\n",
       "    </tr>\n",
       "  </thead>\n",
       "  <tbody>\n",
       "    <tr>\n",
       "      <th>count</th>\n",
       "      <td>405</td>\n",
       "      <td>405.000000</td>\n",
       "      <td>405.000000</td>\n",
       "    </tr>\n",
       "    <tr>\n",
       "      <th>mean</th>\n",
       "      <td>2020-05-21 18:36:26.666666752</td>\n",
       "      <td>243753.325926</td>\n",
       "      <td>63.007407</td>\n",
       "    </tr>\n",
       "    <tr>\n",
       "      <th>min</th>\n",
       "      <td>2012-04-24 00:00:00</td>\n",
       "      <td>150174.000000</td>\n",
       "      <td>16.000000</td>\n",
       "    </tr>\n",
       "    <tr>\n",
       "      <th>25%</th>\n",
       "      <td>2017-11-08 00:00:00</td>\n",
       "      <td>209246.000000</td>\n",
       "      <td>56.000000</td>\n",
       "    </tr>\n",
       "    <tr>\n",
       "      <th>50%</th>\n",
       "      <td>2021-03-04 00:00:00</td>\n",
       "      <td>251240.000000</td>\n",
       "      <td>65.000000</td>\n",
       "    </tr>\n",
       "    <tr>\n",
       "      <th>75%</th>\n",
       "      <td>2023-04-06 00:00:00</td>\n",
       "      <td>281328.000000</td>\n",
       "      <td>71.000000</td>\n",
       "    </tr>\n",
       "    <tr>\n",
       "      <th>max</th>\n",
       "      <td>2025-05-13 00:00:00</td>\n",
       "      <td>312172.000000</td>\n",
       "      <td>94.000000</td>\n",
       "    </tr>\n",
       "    <tr>\n",
       "      <th>std</th>\n",
       "      <td>NaN</td>\n",
       "      <td>44989.927258</td>\n",
       "      <td>12.447412</td>\n",
       "    </tr>\n",
       "  </tbody>\n",
       "</table>\n",
       "</div>"
      ],
      "text/plain": [
       "                   Date of Procedure     Patient ID        Age \n",
       "count                            405     405.000000  405.000000\n",
       "mean   2020-05-21 18:36:26.666666752  243753.325926   63.007407\n",
       "min              2012-04-24 00:00:00  150174.000000   16.000000\n",
       "25%              2017-11-08 00:00:00  209246.000000   56.000000\n",
       "50%              2021-03-04 00:00:00  251240.000000   65.000000\n",
       "75%              2023-04-06 00:00:00  281328.000000   71.000000\n",
       "max              2025-05-13 00:00:00  312172.000000   94.000000\n",
       "std                              NaN   44989.927258   12.447412"
      ]
     },
     "execution_count": 17,
     "metadata": {},
     "output_type": "execute_result"
    }
   ],
   "source": [
    "df = pd.read_excel('Data/raw_imaging_data.xlsx')\n",
    "\n",
    "df.head()\n",
    "df.info()\n",
    "df.describe()"
   ]
  },
  {
   "cell_type": "markdown",
   "id": "dacbda55",
   "metadata": {},
   "source": [
    "<br><br>\n",
    "### Exploratory Data Analysis\n",
    "\n",
    "#### **Dataset Size & Coverage**\n",
    "- We've got **405 procedures** to work with\n",
    "- The data spans from **2012 to 2025**\n",
    "- Most procedures happened around **2021**\n",
    "\n",
    "\n",
    "#### **Quick Observations**\n",
    "- No missing data in our main columns (Date of Procedure, Patient ID) \n",
    "- Pretty even distribution of patient IDs suggests good coverage across different patients\n",
    "- The date column is already in a datetime format"
   ]
  },
  {
   "cell_type": "markdown",
   "id": "b72c8774",
   "metadata": {},
   "source": [
    "Cleaning the Data\n",
    "---"
   ]
  },
  {
   "cell_type": "markdown",
   "id": "1d5cea58",
   "metadata": {},
   "source": [
    "Quick cleanup steps:\n",
    "- Check for missing values\n",
    "- Fix any weird formatting\n",
    "- Make sure everything looks good before we start analyzing\n",
    "\n"
   ]
  },
  {
   "cell_type": "markdown",
   "id": "a6ebd460",
   "metadata": {},
   "source": [
    "<br><br>\n",
    "1. So first we'll comb through and check for any data that might be missing\n"
   ]
  },
  {
   "cell_type": "code",
   "execution_count": 18,
   "id": "2eb1e1ef",
   "metadata": {},
   "outputs": [
    {
     "data": {
      "text/plain": [
       "Index(['Date of Procedure', 'Patient ID', 'Age ', 'Gender',\n",
       "       'Surgical Findings', 'Surgical Cure', 'SPECT/CT', 'Ultrasound',\n",
       "       '4D CT Scan', 'Sestamibi', 'MRI'],\n",
       "      dtype='object')"
      ]
     },
     "execution_count": 18,
     "metadata": {},
     "output_type": "execute_result"
    }
   ],
   "source": [
    "# Was an error with age column name being wrong so we viwed the columns and realized it was a space after the 'Age'\n",
    "df.columns\n",
    "\n"
   ]
  },
  {
   "cell_type": "markdown",
   "id": "4adcfa9e",
   "metadata": {},
   "source": [
    "<br><br>\n",
    "2. Get rid of (if any) whitespaces in Columns"
   ]
  },
  {
   "cell_type": "code",
   "execution_count": 19,
   "id": "490b0b17",
   "metadata": {},
   "outputs": [
    {
     "name": "stdout",
     "output_type": "stream",
     "text": [
      "Index(['Date of Procedure', 'Patient ID', 'Age', 'Gender', 'Surgical Findings',\n",
      "       'Surgical Cure', 'SPECT/CT', 'Ultrasound', '4D CT Scan', 'Sestamibi',\n",
      "       'MRI'],\n",
      "      dtype='object')\n"
     ]
    }
   ],
   "source": [
    "#  Fixed the column names by getting rid of any whitespace after the column names\n",
    "\n",
    "df.columns = df.columns.str.strip()\n",
    "print(df.columns)"
   ]
  },
  {
   "cell_type": "markdown",
   "id": "6e2b1491",
   "metadata": {},
   "source": [
    "<br><br>\n",
    "3. Check for Columns that have Null values"
   ]
  },
  {
   "cell_type": "code",
   "execution_count": 20,
   "id": "2f0d9636",
   "metadata": {},
   "outputs": [
    {
     "name": "stdout",
     "output_type": "stream",
     "text": [
      "\n",
      "\n",
      "Date of Procedure      0\n",
      "Patient ID             0\n",
      "Age                    0\n",
      "Gender                 0\n",
      "Surgical Findings      0\n",
      "Surgical Cure          0\n",
      "SPECT/CT             175\n",
      "Ultrasound           260\n",
      "4D CT Scan           177\n",
      "Sestamibi            231\n",
      "MRI                  390\n",
      "dtype: int64\n",
      "\n",
      "\n",
      "Rows with null ages:\n",
      "Empty DataFrame\n",
      "Columns: [Patient ID]\n",
      "Index: []\n"
     ]
    }
   ],
   "source": [
    "# Then we checked for null values\n",
    "print(\"\\n\")\n",
    "print(df.isna().sum())\n",
    "\n",
    "# Then we found the rows with null ages\n",
    "print(\"\\n\\nRows with null ages:\")\n",
    "print(df[df['Age'].isna()][['Patient ID']])"
   ]
  },
  {
   "cell_type": "markdown",
   "id": "76d81eae",
   "metadata": {},
   "source": [
    "<br><br>\n",
    "4. Check if there's any unncesessary columns"
   ]
  },
  {
   "cell_type": "code",
   "execution_count": 21,
   "id": "69dd0f96",
   "metadata": {},
   "outputs": [],
   "source": [
    "# Sometimes Excel exports columns that are unanmed so we'll just get rid of them\n",
    "\n",
    "# But this gives an error because no unnamed columns so it's just good to check and make sure\n",
    "# df = df.drop(columns='Unnamed: 0')"
   ]
  },
  {
   "cell_type": "markdown",
   "id": "b0198f6e",
   "metadata": {},
   "source": [
    "## Saving the Cleaned Data\n",
    "\n",
    "Now that we’ve finished pulling and cleaning the dataset, like fixing the column names, handling missing values, and making sure the structure is correct, we’re saving the final cleaned version to a new Excel file.\n",
    "\n",
    "We're going to use the cleaned dataset (`Clean_imaging_data.xlsx`) for our later analysis notebooks so we don’t have to redo the cleaning steps again.\n"
   ]
  },
  {
   "cell_type": "code",
   "execution_count": null,
   "id": "6538747d",
   "metadata": {},
   "outputs": [],
   "source": [
    "\"\"\"\n",
    "    Save the cleaned DataFrame to an Excel file, \n",
    "    This is what we originally had - just saving the cleaned imaging data\n",
    "    df.to_excel(\"Data/Clean_imaging_data.xlsx\", index=False)\n",
    "\"\"\"\n",
    "\n",
    "\"\"\"\n",
    "    But then we realized we needed columns for each individual modality that showed \n",
    "    whether or not it matched the surgical findings in the exact way we'd need.\n",
    "    We needed a column that says \"yes exact match\" for each modality.\n",
    "    So we changed it into the modality concordance file because the raw imaging \n",
    "    data only had what the imaging found - it never compared it to what was \n",
    "    actually found in surgery to see if it was a match to what the scan said.\n",
    "    We had to create columns for that comparison, and that could be done in the \n",
    "    modality concordance file, so we commented this out and moved forward with that approach.\n",
    "\"\"\""
   ]
  }
 ],
 "metadata": {
  "kernelspec": {
   "display_name": "base",
   "language": "python",
   "name": "python3"
  },
  "language_info": {
   "codemirror_mode": {
    "name": "ipython",
    "version": 3
   },
   "file_extension": ".py",
   "mimetype": "text/x-python",
   "name": "python",
   "nbconvert_exporter": "python",
   "pygments_lexer": "ipython3",
   "version": "3.12.7"
  }
 },
 "nbformat": 4,
 "nbformat_minor": 5
}
