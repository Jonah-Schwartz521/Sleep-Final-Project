{
 "cells": [
  {
   "cell_type": "markdown",
   "id": "4e838626",
   "metadata": {},
   "source": [
    "# Chapter 1 - Data Preparation : Pulling and Cleaning the Imaging Dataset\n",
    "\n",
    "## Summary\n",
    "\n",
    "This notebook is basically the first step of our project - getting the imaging data and cleaning it up so I can actually use it. I'm going to load up the dataset, take a look at what we're working with, and fix any messy stuff like missing data or weird formatting. Then I'll save a clean version that's ready to go.\n",
    "\n",
    "We're keeping all the charts and analysis for another notebook so this one doesn't get too messy and it stays focused on just prepping the data.\n"
   ]
  },
  {
   "cell_type": "markdown",
   "id": "769573cc",
   "metadata": {},
   "source": [
    "Pulling the Data\n",
    "---"
   ]
  },
  {
   "cell_type": "markdown",
   "id": "5dd1d142",
   "metadata": {},
   "source": [
    "Imports "
   ]
  },
  {
   "cell_type": "code",
   "execution_count": 5,
   "id": "1c7bdfb2",
   "metadata": {},
   "outputs": [],
   "source": [
    "import pandas as pd"
   ]
  },
  {
   "cell_type": "markdown",
   "id": "9f235043",
   "metadata": {},
   "source": [
    "<br><br>\n",
    "Reading in the Raw Data"
   ]
  },
  {
   "cell_type": "code",
   "execution_count": 6,
   "id": "c567fc6d",
   "metadata": {},
   "outputs": [
    {
     "ename": "OSError",
     "evalue": "[Errno 22] Invalid argument: 'Data\\raw_imaging_data.xlsx'",
     "output_type": "error",
     "traceback": [
      "\u001b[1;31m---------------------------------------------------------------------------\u001b[0m",
      "\u001b[1;31mOSError\u001b[0m                                   Traceback (most recent call last)",
      "Cell \u001b[1;32mIn[6], line 1\u001b[0m\n\u001b[1;32m----> 1\u001b[0m df \u001b[38;5;241m=\u001b[39m pd\u001b[38;5;241m.\u001b[39mread_excel(\u001b[38;5;124m'\u001b[39m\u001b[38;5;124mData\u001b[39m\u001b[38;5;130;01m\\r\u001b[39;00m\u001b[38;5;124maw_imaging_data.xlsx\u001b[39m\u001b[38;5;124m'\u001b[39m)\n\u001b[0;32m      3\u001b[0m df\u001b[38;5;241m.\u001b[39mhead()\n\u001b[0;32m      4\u001b[0m df\u001b[38;5;241m.\u001b[39minfo()\n",
      "File \u001b[1;32mc:\\Users\\XeNoJ\\anaconda3\\Lib\\site-packages\\pandas\\io\\excel\\_base.py:495\u001b[0m, in \u001b[0;36mread_excel\u001b[1;34m(io, sheet_name, header, names, index_col, usecols, dtype, engine, converters, true_values, false_values, skiprows, nrows, na_values, keep_default_na, na_filter, verbose, parse_dates, date_parser, date_format, thousands, decimal, comment, skipfooter, storage_options, dtype_backend, engine_kwargs)\u001b[0m\n\u001b[0;32m    493\u001b[0m \u001b[38;5;28;01mif\u001b[39;00m \u001b[38;5;129;01mnot\u001b[39;00m \u001b[38;5;28misinstance\u001b[39m(io, ExcelFile):\n\u001b[0;32m    494\u001b[0m     should_close \u001b[38;5;241m=\u001b[39m \u001b[38;5;28;01mTrue\u001b[39;00m\n\u001b[1;32m--> 495\u001b[0m     io \u001b[38;5;241m=\u001b[39m ExcelFile(\n\u001b[0;32m    496\u001b[0m         io,\n\u001b[0;32m    497\u001b[0m         storage_options\u001b[38;5;241m=\u001b[39mstorage_options,\n\u001b[0;32m    498\u001b[0m         engine\u001b[38;5;241m=\u001b[39mengine,\n\u001b[0;32m    499\u001b[0m         engine_kwargs\u001b[38;5;241m=\u001b[39mengine_kwargs,\n\u001b[0;32m    500\u001b[0m     )\n\u001b[0;32m    501\u001b[0m \u001b[38;5;28;01melif\u001b[39;00m engine \u001b[38;5;129;01mand\u001b[39;00m engine \u001b[38;5;241m!=\u001b[39m io\u001b[38;5;241m.\u001b[39mengine:\n\u001b[0;32m    502\u001b[0m     \u001b[38;5;28;01mraise\u001b[39;00m \u001b[38;5;167;01mValueError\u001b[39;00m(\n\u001b[0;32m    503\u001b[0m         \u001b[38;5;124m\"\u001b[39m\u001b[38;5;124mEngine should not be specified when passing \u001b[39m\u001b[38;5;124m\"\u001b[39m\n\u001b[0;32m    504\u001b[0m         \u001b[38;5;124m\"\u001b[39m\u001b[38;5;124man ExcelFile - ExcelFile already has the engine set\u001b[39m\u001b[38;5;124m\"\u001b[39m\n\u001b[0;32m    505\u001b[0m     )\n",
      "File \u001b[1;32mc:\\Users\\XeNoJ\\anaconda3\\Lib\\site-packages\\pandas\\io\\excel\\_base.py:1550\u001b[0m, in \u001b[0;36mExcelFile.__init__\u001b[1;34m(self, path_or_buffer, engine, storage_options, engine_kwargs)\u001b[0m\n\u001b[0;32m   1548\u001b[0m     ext \u001b[38;5;241m=\u001b[39m \u001b[38;5;124m\"\u001b[39m\u001b[38;5;124mxls\u001b[39m\u001b[38;5;124m\"\u001b[39m\n\u001b[0;32m   1549\u001b[0m \u001b[38;5;28;01melse\u001b[39;00m:\n\u001b[1;32m-> 1550\u001b[0m     ext \u001b[38;5;241m=\u001b[39m inspect_excel_format(\n\u001b[0;32m   1551\u001b[0m         content_or_path\u001b[38;5;241m=\u001b[39mpath_or_buffer, storage_options\u001b[38;5;241m=\u001b[39mstorage_options\n\u001b[0;32m   1552\u001b[0m     )\n\u001b[0;32m   1553\u001b[0m     \u001b[38;5;28;01mif\u001b[39;00m ext \u001b[38;5;129;01mis\u001b[39;00m \u001b[38;5;28;01mNone\u001b[39;00m:\n\u001b[0;32m   1554\u001b[0m         \u001b[38;5;28;01mraise\u001b[39;00m \u001b[38;5;167;01mValueError\u001b[39;00m(\n\u001b[0;32m   1555\u001b[0m             \u001b[38;5;124m\"\u001b[39m\u001b[38;5;124mExcel file format cannot be determined, you must specify \u001b[39m\u001b[38;5;124m\"\u001b[39m\n\u001b[0;32m   1556\u001b[0m             \u001b[38;5;124m\"\u001b[39m\u001b[38;5;124man engine manually.\u001b[39m\u001b[38;5;124m\"\u001b[39m\n\u001b[0;32m   1557\u001b[0m         )\n",
      "File \u001b[1;32mc:\\Users\\XeNoJ\\anaconda3\\Lib\\site-packages\\pandas\\io\\excel\\_base.py:1402\u001b[0m, in \u001b[0;36minspect_excel_format\u001b[1;34m(content_or_path, storage_options)\u001b[0m\n\u001b[0;32m   1399\u001b[0m \u001b[38;5;28;01mif\u001b[39;00m \u001b[38;5;28misinstance\u001b[39m(content_or_path, \u001b[38;5;28mbytes\u001b[39m):\n\u001b[0;32m   1400\u001b[0m     content_or_path \u001b[38;5;241m=\u001b[39m BytesIO(content_or_path)\n\u001b[1;32m-> 1402\u001b[0m \u001b[38;5;28;01mwith\u001b[39;00m get_handle(\n\u001b[0;32m   1403\u001b[0m     content_or_path, \u001b[38;5;124m\"\u001b[39m\u001b[38;5;124mrb\u001b[39m\u001b[38;5;124m\"\u001b[39m, storage_options\u001b[38;5;241m=\u001b[39mstorage_options, is_text\u001b[38;5;241m=\u001b[39m\u001b[38;5;28;01mFalse\u001b[39;00m\n\u001b[0;32m   1404\u001b[0m ) \u001b[38;5;28;01mas\u001b[39;00m handle:\n\u001b[0;32m   1405\u001b[0m     stream \u001b[38;5;241m=\u001b[39m handle\u001b[38;5;241m.\u001b[39mhandle\n\u001b[0;32m   1406\u001b[0m     stream\u001b[38;5;241m.\u001b[39mseek(\u001b[38;5;241m0\u001b[39m)\n",
      "File \u001b[1;32mc:\\Users\\XeNoJ\\anaconda3\\Lib\\site-packages\\pandas\\io\\common.py:882\u001b[0m, in \u001b[0;36mget_handle\u001b[1;34m(path_or_buf, mode, encoding, compression, memory_map, is_text, errors, storage_options)\u001b[0m\n\u001b[0;32m    873\u001b[0m         handle \u001b[38;5;241m=\u001b[39m \u001b[38;5;28mopen\u001b[39m(\n\u001b[0;32m    874\u001b[0m             handle,\n\u001b[0;32m    875\u001b[0m             ioargs\u001b[38;5;241m.\u001b[39mmode,\n\u001b[1;32m   (...)\u001b[0m\n\u001b[0;32m    878\u001b[0m             newline\u001b[38;5;241m=\u001b[39m\u001b[38;5;124m\"\u001b[39m\u001b[38;5;124m\"\u001b[39m,\n\u001b[0;32m    879\u001b[0m         )\n\u001b[0;32m    880\u001b[0m     \u001b[38;5;28;01melse\u001b[39;00m:\n\u001b[0;32m    881\u001b[0m         \u001b[38;5;66;03m# Binary mode\u001b[39;00m\n\u001b[1;32m--> 882\u001b[0m         handle \u001b[38;5;241m=\u001b[39m \u001b[38;5;28mopen\u001b[39m(handle, ioargs\u001b[38;5;241m.\u001b[39mmode)\n\u001b[0;32m    883\u001b[0m     handles\u001b[38;5;241m.\u001b[39mappend(handle)\n\u001b[0;32m    885\u001b[0m \u001b[38;5;66;03m# Convert BytesIO or file objects passed with an encoding\u001b[39;00m\n",
      "\u001b[1;31mOSError\u001b[0m: [Errno 22] Invalid argument: 'Data\\raw_imaging_data.xlsx'"
     ]
    }
   ],
   "source": [
    "df = pd.read_excel('Data\\raw_imaging_data.xlsx')\n",
    "\n",
    "df.head()\n",
    "df.info()\n",
    "df.describe()"
   ]
  },
  {
   "cell_type": "markdown",
   "id": "dacbda55",
   "metadata": {},
   "source": [
    "<br><br>\n",
    "### Exploratory Data Analysis\n",
    "\n",
    "#### **Dataset Size & Coverage**\n",
    "- We've got **405 procedures** to work with\n",
    "- The data spans from **2012 to 2025**\n",
    "- Most procedures happened around **2021**\n",
    "\n",
    "\n",
    "#### **Quick Observations**\n",
    "- No missing data in our main columns (Date of Procedure, Patient ID) \n",
    "- Pretty even distribution of patient IDs suggests good coverage across different patients\n",
    "- The date column is already in a datetime format"
   ]
  },
  {
   "cell_type": "markdown",
   "id": "b72c8774",
   "metadata": {},
   "source": [
    "Cleaning the Data\n",
    "---"
   ]
  },
  {
   "cell_type": "markdown",
   "id": "1d5cea58",
   "metadata": {},
   "source": [
    "Quick cleanup steps:\n",
    "- Check for missing values\n",
    "- Fix any weird formatting\n",
    "- Make sure everything looks good before we start analyzing\n",
    "\n"
   ]
  },
  {
   "cell_type": "markdown",
   "id": "a6ebd460",
   "metadata": {},
   "source": [
    "<br><br>\n",
    "1. So first we'll comb through and check for any data that might be missing\n"
   ]
  },
  {
   "cell_type": "code",
   "execution_count": null,
   "id": "2eb1e1ef",
   "metadata": {},
   "outputs": [
    {
     "data": {
      "text/plain": [
       "Index(['Date of Procedure', 'Patient ID', 'Age ', 'Gender',\n",
       "       'Surgical Findings', 'Surgical Cure', 'SPECT/CT', 'Ultrasound',\n",
       "       '4D CT Scan', 'Sestamibi', 'MRI'],\n",
       "      dtype='object')"
      ]
     },
     "execution_count": 15,
     "metadata": {},
     "output_type": "execute_result"
    }
   ],
   "source": [
    "# Was an error with age column name being wrong so we viwed the columns and realized it was a space after the 'Age'\n",
    "df.columns\n",
    "\n"
   ]
  },
  {
   "cell_type": "markdown",
   "id": "4adcfa9e",
   "metadata": {},
   "source": [
    "<br><br>\n",
    "2. Get rid of (if any) whitespaces in Columns"
   ]
  },
  {
   "cell_type": "code",
   "execution_count": null,
   "id": "490b0b17",
   "metadata": {},
   "outputs": [
    {
     "name": "stdout",
     "output_type": "stream",
     "text": [
      "Index(['Date of Procedure', 'Patient ID', 'Age', 'Gender', 'Surgical Findings',\n",
      "       'Surgical Cure', 'SPECT/CT', 'Ultrasound', '4D CT Scan', 'Sestamibi',\n",
      "       'MRI'],\n",
      "      dtype='object')\n"
     ]
    }
   ],
   "source": [
    "#  Fixed the column names by getting rid of any whitespace after the column names\n",
    "df.columns = df.columns.str.strip()\n",
    "print(df.columns)"
   ]
  },
  {
   "cell_type": "markdown",
   "id": "6e2b1491",
   "metadata": {},
   "source": [
    "<br><br>\n",
    "3. Check for Columns that have Null values"
   ]
  },
  {
   "cell_type": "code",
   "execution_count": null,
   "id": "2f0d9636",
   "metadata": {},
   "outputs": [
    {
     "name": "stdout",
     "output_type": "stream",
     "text": [
      "\n",
      "\n",
      "Date of Procedure      0\n",
      "Patient ID             0\n",
      "Age                    2\n",
      "Gender                 0\n",
      "Surgical Findings      0\n",
      "Surgical Cure          0\n",
      "SPECT/CT             175\n",
      "Ultrasound           260\n",
      "4D CT Scan           177\n",
      "Sestamibi            231\n",
      "MRI                  390\n",
      "dtype: int64\n",
      "\n",
      "\n",
      "Rows with null ages:\n",
      "     Patient ID\n",
      "156      212628\n",
      "239      281633\n"
     ]
    }
   ],
   "source": [
    "# Then we checked for null values\n",
    "print(\"\\n\")\n",
    "print(df.isna().sum())\n",
    "\n",
    "# Then we found the rows with null ages\n",
    "print(\"\\n\\nRows with null ages:\")\n",
    "print(df[df['Age'].isna()][['Patient ID']])"
   ]
  },
  {
   "cell_type": "markdown",
   "id": "76d81eae",
   "metadata": {},
   "source": [
    "<br><br>\n",
    "4. Check if there's any unncesessary columns"
   ]
  },
  {
   "cell_type": "code",
   "execution_count": null,
   "id": "69dd0f96",
   "metadata": {},
   "outputs": [],
   "source": [
    "# Sometimes Excel exports columns that are unanmed so we'll just get rid of them\n",
    "\n",
    "# But this gives an error because no unnamed columns so it's just good to check and make sure\n",
    "# df = df.drop(columns='Unnamed: 0')"
   ]
  }
 ],
 "metadata": {
  "kernelspec": {
   "display_name": "base",
   "language": "python",
   "name": "python3"
  },
  "language_info": {
   "codemirror_mode": {
    "name": "ipython",
    "version": 3
   },
   "file_extension": ".py",
   "mimetype": "text/x-python",
   "name": "python",
   "nbconvert_exporter": "python",
   "pygments_lexer": "ipython3",
   "version": "3.12.7"
  }
 },
 "nbformat": 4,
 "nbformat_minor": 5
}
