{
 "cells": [
  {
   "cell_type": "markdown",
   "id": "0ad033a1",
   "metadata": {
    "vscode": {
     "languageId": "raw"
    }
   },
   "source": [
    "# Sensitivity Analysis for Imaging Modalities\n",
    "\n",
    "## What is Sensitivity?\n",
    "\n",
    "Sensitivity measures how good a test is at finding problems that actually exist. It answers the question: \"When there really is a parathyroid gland to find, how often does the scan actually find it?\"\n",
    "\n",
    "Think of it like this: if 100 patients have parathyroid disease, sensitivity tells us how many of those 100 the scan will successfully detect.\n",
    "\n",
    "## How We Calculate Sensitivity\n",
    "\n",
    "Sensitivity is calculated using this formula:\n",
    "```\n",
    "Sensitivity = (Correctly Found Cases) / (All Cases with Disease) × 100\n",
    "```\n",
    "\n",
    "For our study:\n",
    "- **Correctly Found Cases (True Positives)**: Scans that successfully located the parathyroid gland\n",
    "- **Missed Cases (False Negatives)**: Scans that were \"Non-localizing\" but surgery found disease\n",
    "- **All Cases with Disease**: Both found and missed cases combined\n",
    "\n",
    "## What We Include and Exclude\n",
    "\n",
    "We include all patients who had surgery (meaning they had confirmed disease):\n",
    "- **True Positives**: Scans that found the gland in the right place\n",
    "- **False Negatives**: Scans that said \"Non-localizing\" but surgery found disease anyway\n",
    "\n",
    "We exclude cases where no scan was done (NaN/missing data) because we can't measure what wasn't tested.\n",
    "\n",
    "## Why Sensitivity Matters\n",
    "\n",
    "High sensitivity (close to 100%) means the scan rarely misses disease. If a scan has 90% sensitivity, it will find 9 out of 10 cases of parathyroid disease. This helps doctors know which scans are best for initial screening and detection.\n"
   ]
  },
  {
   "cell_type": "markdown",
   "id": "63376126",
   "metadata": {},
   "source": [
    "Import"
   ]
  },
  {
   "cell_type": "code",
   "execution_count": 27,
   "id": "5654a209",
   "metadata": {},
   "outputs": [],
   "source": [
    "import pandas as pd \n",
    "import matplotlib.pyplot as plt"
   ]
  },
  {
   "cell_type": "markdown",
   "id": "3899a3ae",
   "metadata": {},
   "source": [
    "Read Data"
   ]
  },
  {
   "cell_type": "code",
   "execution_count": 28,
   "id": "9c981940",
   "metadata": {},
   "outputs": [],
   "source": [
    "preop_imaging_df = pd.read_excel('Data/Clean_imaging_data.xlsx')"
   ]
  },
  {
   "cell_type": "markdown",
   "id": "de23a41a",
   "metadata": {},
   "source": [
    "## Function that calculates the sensitivity for each respective imaging modality** \n",
    "\n",
    "### Parameters\n",
    "- **df**: the dataframe with imaging and concordance data  \n",
    "- **modality_name**: the name of the scan column (e.g. `'4D CT Scan'`)\n",
    "\n",
    "### Returns\n",
    "- **sensitivity**: true positives / (true positives + false negatives)  \n",
    "- **true_positives**: scans that matched surgery (exact or side)  \n",
    "- **false_negatives**: scans that were non-localizing but surgery found disease\n",
    "\n"
   ]
  },
  {
   "cell_type": "code",
   "execution_count": 29,
   "id": "2798eb5b",
   "metadata": {},
   "outputs": [],
   "source": [
    "def calculate_sensitivity(df, modality_name):\n",
    "    \n",
    "    # initialize the concordance columns\n",
    "    concordance_col = f\"{modality_name} Calculated Concordance\"\n",
    "    \n",
    "    # define true positives as exact or side matches \n",
    "    localized_results = df[df[concordance_col].isin(['Yes (Exact)', 'Yes (Side)'])]\n",
    "    \n",
    "    # define false negatives as non-localizing scan but sugery found disease \n",
    "    nonlocalized_results = df[df[modality_name] == 'Non-localizing']\n",
    "    \n",
    "    # calculate the total true positives and false negatives \n",
    "    true_positives = len(localized_results)\n",
    "    false_negatives = len(nonlocalized_results)\n",
    "    \n",
    "    # avoid dividing by 0 \n",
    "    if true_positives + false_negatives == 0:\n",
    "        return None, 0, 0\n",
    "    \n",
    "    # define and calculate sensitivity \n",
    "    sensitivity = true_positives / (true_positives + false_negatives)\n",
    "    return sensitivity, true_positives, false_negatives"
   ]
  },
  {
   "cell_type": "markdown",
   "id": "391e414a",
   "metadata": {},
   "source": [
    "### Function Test"
   ]
  },
  {
   "cell_type": "code",
   "execution_count": 30,
   "id": "09f54e8b",
   "metadata": {},
   "outputs": [
    {
     "name": "stdout",
     "output_type": "stream",
     "text": [
      "4D CT Scan Sensitivity: 72.64% (146 TP / 201 total)\n"
     ]
    }
   ],
   "source": [
    "# Test the function to make sure it works \n",
    "sensitivity, true_positives, false_negatives = calculate_sensitivity(preop_imaging_df, '4D CT Scan')\n",
    "print(f\"4D CT Scan Sensitivity: {sensitivity:.2%} ({true_positives} TP / {true_positives + false_negatives} total)\")\n"
   ]
  },
  {
   "cell_type": "markdown",
   "id": "74d78c0e",
   "metadata": {},
   "source": [
    "## Sensitivity Analysis Results\n",
    "Calculate and display the Sensitivity for each imaging modality"
   ]
  },
  {
   "cell_type": "code",
   "execution_count": 31,
   "id": "d3de45e9",
   "metadata": {},
   "outputs": [],
   "source": [
    "# define the list of modalities \n",
    "modalities = ['SPECT/CT', '4D CT Scan', 'Ultrasound', 'Sestamibi', 'MRI']\n",
    "\n",
    "# initialize a list to store the results \n",
    "results = []\n",
    "\n",
    "# iterate through each individual modality \n",
    "for modality in modalities:\n",
    "   \n",
    "    # call the sensitivity function \n",
    "    sensitivity, true_positives, false_negatives = calculate_sensitivity(preop_imaging_df, modality)\n",
    "    \n",
    "    # make sure it isn't null\n",
    "    if sensitivity is not None:\n",
    "        \n",
    "        # append each result to its respective modality\n",
    "         results.append({\n",
    "            'Modality': modality,\n",
    "            # round the sensitivity\n",
    "            'Sensitivity': round(sensitivity, 4),  \n",
    "            'True Positives': true_positives,\n",
    "            'False Negatives': false_negatives,\n",
    "            'Total with Disease': true_positives + false_negatives\n",
    "        })"
   ]
  },
  {
   "cell_type": "code",
   "execution_count": 32,
   "id": "b04175d1",
   "metadata": {},
   "outputs": [],
   "source": [
    "# Convert the list of dicts to a DataFrame\n",
    "sensitivity_df = pd.DataFrame(results)"
   ]
  },
  {
   "cell_type": "code",
   "execution_count": 33,
   "id": "435a411b",
   "metadata": {},
   "outputs": [
    {
     "data": {
      "text/html": [
       "<div>\n",
       "<style scoped>\n",
       "    .dataframe tbody tr th:only-of-type {\n",
       "        vertical-align: middle;\n",
       "    }\n",
       "\n",
       "    .dataframe tbody tr th {\n",
       "        vertical-align: top;\n",
       "    }\n",
       "\n",
       "    .dataframe thead th {\n",
       "        text-align: right;\n",
       "    }\n",
       "</style>\n",
       "<table border=\"1\" class=\"dataframe\">\n",
       "  <thead>\n",
       "    <tr style=\"text-align: right;\">\n",
       "      <th></th>\n",
       "      <th>Modality</th>\n",
       "      <th>Sensitivity</th>\n",
       "      <th>True Positives</th>\n",
       "      <th>False Negatives</th>\n",
       "      <th>Total with Disease</th>\n",
       "    </tr>\n",
       "  </thead>\n",
       "  <tbody>\n",
       "    <tr>\n",
       "      <th>0</th>\n",
       "      <td>SPECT/CT</td>\n",
       "      <td>0.7581</td>\n",
       "      <td>163</td>\n",
       "      <td>52</td>\n",
       "      <td>215</td>\n",
       "    </tr>\n",
       "    <tr>\n",
       "      <th>1</th>\n",
       "      <td>4D CT Scan</td>\n",
       "      <td>0.7264</td>\n",
       "      <td>146</td>\n",
       "      <td>55</td>\n",
       "      <td>201</td>\n",
       "    </tr>\n",
       "    <tr>\n",
       "      <th>2</th>\n",
       "      <td>Ultrasound</td>\n",
       "      <td>0.5000</td>\n",
       "      <td>67</td>\n",
       "      <td>67</td>\n",
       "      <td>134</td>\n",
       "    </tr>\n",
       "    <tr>\n",
       "      <th>3</th>\n",
       "      <td>Sestamibi</td>\n",
       "      <td>0.6474</td>\n",
       "      <td>112</td>\n",
       "      <td>61</td>\n",
       "      <td>173</td>\n",
       "    </tr>\n",
       "    <tr>\n",
       "      <th>4</th>\n",
       "      <td>MRI</td>\n",
       "      <td>0.4615</td>\n",
       "      <td>6</td>\n",
       "      <td>7</td>\n",
       "      <td>13</td>\n",
       "    </tr>\n",
       "  </tbody>\n",
       "</table>\n",
       "</div>"
      ],
      "text/plain": [
       "     Modality  Sensitivity  True Positives  False Negatives  \\\n",
       "0    SPECT/CT       0.7581             163               52   \n",
       "1  4D CT Scan       0.7264             146               55   \n",
       "2  Ultrasound       0.5000              67               67   \n",
       "3   Sestamibi       0.6474             112               61   \n",
       "4         MRI       0.4615               6                7   \n",
       "\n",
       "   Total with Disease  \n",
       "0                 215  \n",
       "1                 201  \n",
       "2                 134  \n",
       "3                 173  \n",
       "4                  13  "
      ]
     },
     "execution_count": 33,
     "metadata": {},
     "output_type": "execute_result"
    }
   ],
   "source": [
    "sensitivity_df"
   ]
  },
  {
   "cell_type": "markdown",
   "id": "1bdd4368",
   "metadata": {
    "vscode": {
     "languageId": "raw"
    }
   },
   "source": [
    "## Making the Results Look Better\n",
    "\n",
    "We cleaned up the data so it's easier to understand:\n",
    "- Change the sensitivity numbers from decimals like 0.85 to percentages like 85%\n",
    "- Round everything to 2 decimal places so it's not messy\n",
    "- Put the columns in a better order with the most important stuff first\n"
   ]
  },
  {
   "cell_type": "code",
   "execution_count": 34,
   "id": "8daa6aaf",
   "metadata": {},
   "outputs": [],
   "source": [
    "# create a new column that formats the sensitivity as a percentage \n",
    "sensitivity_df['Sensitivity (%)'] = (sensitivity_df['Sensitivity'] * 100).round(2)\n",
    "\n",
    "# move that column to the front\n",
    "sensitivity_df = sensitivity_df[['Modality', 'Sensitivity (%)', 'True Positives', 'False Negatives', 'Total with Disease']]"
   ]
  },
  {
   "cell_type": "markdown",
   "id": "bb56e9e9",
   "metadata": {
    "vscode": {
     "languageId": "raw"
    }
   },
   "source": [
    "## Sensitivity Comparison Chart\n"
   ]
  },
  {
   "cell_type": "code",
   "execution_count": 35,
   "id": "d06d5f99",
   "metadata": {},
   "outputs": [
    {
     "data": {
      "image/png": "[encoded data removed]",
      "text/plain": [
       "<Figure size 1000x600 with 1 Axes>"
      ]
     },
     "metadata": {},
     "output_type": "display_data"
    }
   ],
   "source": [
    "# Sort by sensitivity (highest to lowest)\n",
    "sorted_data = sensitivity_df.sort_values('Sensitivity (%)', ascending=True) \n",
    "\n",
    "plt.figure(figsize=(10, 6))\n",
    "colors = ['#66c2a5', '#fc8d62', '#8da0cb', '#e78ac3', '#a6d854']\n",
    "bars = plt.barh(sorted_data['Modality'], sorted_data['Sensitivity (%)'], color=colors)\n",
    "\n",
    "# Add percentage labels on the bars\n",
    "for i, v in enumerate(sorted_data['Sensitivity (%)']):\n",
    "    plt.text(v + 1, i, f'{v}%', va='center', fontsize=10)\n",
    "\n",
    "plt.title('Sensitivity by Imaging Modality')\n",
    "plt.xlabel('Sensitivity (%)')\n",
    "plt.ylabel('Imaging Modality')\n",
    "plt.xlim(0, 100)  \n",
    "plt.tight_layout()\n",
    "plt.show()\n"
   ]
  }
 ],
 "metadata": {
  "kernelspec": {
   "display_name": "base",
   "language": "python",
   "name": "python3"
  },
  "language_info": {
   "codemirror_mode": {
    "name": "ipython",
    "version": 3
   },
   "file_extension": ".py",
   "mimetype": "text/x-python",
   "name": "python",
   "nbconvert_exporter": "python",
   "pygments_lexer": "ipython3",
   "version": "3.12.7"
  }
 },
 "nbformat": 4,
 "nbformat_minor": 5
}
