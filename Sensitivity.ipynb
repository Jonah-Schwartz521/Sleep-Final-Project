{
 "cells": [
  {
   "cell_type": "code",
   "execution_count": 1,
   "id": "5654a209",
   "metadata": {},
   "outputs": [],
   "source": [
    "import pandas as pd \n",
    "preop_imaging_df = pd.read_excel('Data/Clean_imaging_data.xlsx')"
   ]
  },
  {
   "cell_type": "code",
   "execution_count": 2,
   "id": "14de46aa",
   "metadata": {},
   "outputs": [
    {
     "data": {
      "text/plain": [
       "Index(['Date of Procedure', 'Patient ID', 'Age', 'Gender', 'Surgical Findings',\n",
       "       'Surgical Cure', 'SPECT/CT', 'Ultrasound', '4D CT Scan', 'Sestamibi',\n",
       "       'MRI', 'SPECT/CT Calculated Concordance',\n",
       "       '4D CT Scan Calculated Concordance',\n",
       "       'Ultrasound Calculated Concordance', 'Sestamibi Calculated Concordance',\n",
       "       'MRI Calculated Concordance', 'Surgical Side'],\n",
       "      dtype='object')"
      ]
     },
     "execution_count": 2,
     "metadata": {},
     "output_type": "execute_result"
    }
   ],
   "source": [
    "preop_imaging_df.columns"
   ]
  },
  {
   "cell_type": "markdown",
   "id": "de23a41a",
   "metadata": {},
   "source": [
    "**Function that calculates the sensitivity for each respective imaging modality** \n",
    "\n",
    "### Parameters\n",
    "- **df**: the dataframe with imaging and concordance data  \n",
    "- **modality_name**: the name of the scan column (e.g. `'4D CT Scan'`)\n",
    "\n",
    "### Returns\n",
    "- **sensitivity**: true positives / (true positives + false negatives)  \n",
    "- **true_positives**: scans that matched surgery (exact or side)  \n",
    "- **false_negatives**: scans that were non-localizing but surgery found disease\n",
    "\n"
   ]
  },
  {
   "cell_type": "code",
   "execution_count": null,
   "id": "2798eb5b",
   "metadata": {},
   "outputs": [],
   "source": [
    "def calculate_sensitivty(df, modality_name):\n",
    "    \n",
    "    # initialize the concordance columns\n",
    "    concordance_col = f\"{modality_name} Calculated Concordance\"\n",
    "    \n",
    "    # Define true positives \n",
    "    \n"
   ]
  }
 ],
 "metadata": {
  "kernelspec": {
   "display_name": "base",
   "language": "python",
   "name": "python3"
  },
  "language_info": {
   "codemirror_mode": {
    "name": "ipython",
    "version": 3
   },
   "file_extension": ".py",
   "mimetype": "text/x-python",
   "name": "python",
   "nbconvert_exporter": "python",
   "pygments_lexer": "ipython3",
   "version": "3.12.4"
  }
 },
 "nbformat": 4,
 "nbformat_minor": 5
}
